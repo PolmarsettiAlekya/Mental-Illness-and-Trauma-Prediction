{
  "nbformat": 4,
  "nbformat_minor": 0,
  "metadata": {
    "colab": {
      "provenance": [],
      "include_colab_link": true
    },
    "kernelspec": {
      "name": "python3",
      "display_name": "Python 3"
    },
    "language_info": {
      "name": "python"
    }
  },
  "cells": [
    {
      "cell_type": "markdown",
      "metadata": {
        "id": "view-in-github",
        "colab_type": "text"
      },
      "source": [
        "<a href=\"https://colab.research.google.com/github/PolmarsettiAlekya/Mental-Illness-and-Trauma-Prediction/blob/main/project_main.ipynb\" target=\"_parent\"><img src=\"https://colab.research.google.com/assets/colab-badge.svg\" alt=\"Open In Colab\"/></a>"
      ]
    },
    {
      "cell_type": "code",
      "execution_count": null,
      "metadata": {
        "id": "h6h2KIdxE6yx"
      },
      "outputs": [],
      "source": [
        "import pandas as pd"
      ]
    },
    {
      "cell_type": "code",
      "source": [
        "data=pd.read_csv(\"survey_responses.csv\")\n",
        "data.head(3)"
      ],
      "metadata": {
        "colab": {
          "base_uri": "https://localhost:8080/",
          "height": 415
        },
        "id": "TqrSpbC-FGOP",
        "outputId": "930e65bd-5544-46fc-f022-697c2d237083"
      },
      "execution_count": null,
      "outputs": [
        {
          "output_type": "execute_result",
          "data": {
            "text/plain": [
              "  Career      Citizenship Nationality  Year since Matriculation  \\\n",
              "0   UGRD        Foreigner   Indonesia                         2   \n",
              "1   UGRD  Country Citizen   Singapore                         1   \n",
              "2   UGRD        Foreigner    Malaysia                         2   \n",
              "\n",
              "   Year of Study        Primary Programme Gender             Department  \\\n",
              "0              2      Bachelor of Science      F      School of Science   \n",
              "1              1  Bachelor of Engineering      F  School of Engineering   \n",
              "2              2      Bachelor of Science      M      School of Science   \n",
              "\n",
              "    Housing Type  Q1-How many events have you Volunteered in ?  \\\n",
              "0     Residences                                             0   \n",
              "1  Out of Campus                                             0   \n",
              "2          Halls                                             3   \n",
              "\n",
              "   Q2-How many events have you Participated in ?  \\\n",
              "0                                              1   \n",
              "1                                              1   \n",
              "2                                              1   \n",
              "\n",
              "   Q3-How many activities are you Interested in ?  \\\n",
              "0                                               3   \n",
              "1                                               2   \n",
              "2                                               1   \n",
              "\n",
              "   Q4-How many activities are you Passionate about ?  \\\n",
              "0                                                  1   \n",
              "1                                                  3   \n",
              "2                                                  5   \n",
              "\n",
              "   Q5-What are your levels of stress ?  \\\n",
              "0                                    1   \n",
              "1                                    1   \n",
              "2                                    2   \n",
              "\n",
              "   Q6-How Satisfied You are with your Student Life ?  \\\n",
              "0                                                  2   \n",
              "1                                                  2   \n",
              "2                                                  2   \n",
              "\n",
              "   Q7-How much effort do you make to interact with others ?  \\\n",
              "0                                                2.0          \n",
              "1                                                2.0          \n",
              "2                                                2.0          \n",
              "\n",
              "   Q8-About How events are you aware about ?  response_id  \\\n",
              "0                                        2.0            1   \n",
              "1                                        3.0            2   \n",
              "2                                        2.0            3   \n",
              "\n",
              "           Q9-What is an ideal student life ?  \n",
              "0                                         NaN  \n",
              "1                    Friends+CCas+good result  \n",
              "2  just want everything to go smooth. serious  "
            ],
            "text/html": [
              "\n",
              "  <div id=\"df-8154f73a-4d2c-434e-b82c-f49b5fe72f91\">\n",
              "    <div class=\"colab-df-container\">\n",
              "      <div>\n",
              "<style scoped>\n",
              "    .dataframe tbody tr th:only-of-type {\n",
              "        vertical-align: middle;\n",
              "    }\n",
              "\n",
              "    .dataframe tbody tr th {\n",
              "        vertical-align: top;\n",
              "    }\n",
              "\n",
              "    .dataframe thead th {\n",
              "        text-align: right;\n",
              "    }\n",
              "</style>\n",
              "<table border=\"1\" class=\"dataframe\">\n",
              "  <thead>\n",
              "    <tr style=\"text-align: right;\">\n",
              "      <th></th>\n",
              "      <th>Career</th>\n",
              "      <th>Citizenship</th>\n",
              "      <th>Nationality</th>\n",
              "      <th>Year since Matriculation</th>\n",
              "      <th>Year of Study</th>\n",
              "      <th>Primary Programme</th>\n",
              "      <th>Gender</th>\n",
              "      <th>Department</th>\n",
              "      <th>Housing Type</th>\n",
              "      <th>Q1-How many events have you Volunteered in ?</th>\n",
              "      <th>Q2-How many events have you Participated in ?</th>\n",
              "      <th>Q3-How many activities are you Interested in ?</th>\n",
              "      <th>Q4-How many activities are you Passionate about ?</th>\n",
              "      <th>Q5-What are your levels of stress ?</th>\n",
              "      <th>Q6-How Satisfied You are with your Student Life ?</th>\n",
              "      <th>Q7-How much effort do you make to interact with others ?</th>\n",
              "      <th>Q8-About How events are you aware about ?</th>\n",
              "      <th>response_id</th>\n",
              "      <th>Q9-What is an ideal student life ?</th>\n",
              "    </tr>\n",
              "  </thead>\n",
              "  <tbody>\n",
              "    <tr>\n",
              "      <th>0</th>\n",
              "      <td>UGRD</td>\n",
              "      <td>Foreigner</td>\n",
              "      <td>Indonesia</td>\n",
              "      <td>2</td>\n",
              "      <td>2</td>\n",
              "      <td>Bachelor of Science</td>\n",
              "      <td>F</td>\n",
              "      <td>School of Science</td>\n",
              "      <td>Residences</td>\n",
              "      <td>0</td>\n",
              "      <td>1</td>\n",
              "      <td>3</td>\n",
              "      <td>1</td>\n",
              "      <td>1</td>\n",
              "      <td>2</td>\n",
              "      <td>2.0</td>\n",
              "      <td>2.0</td>\n",
              "      <td>1</td>\n",
              "      <td>NaN</td>\n",
              "    </tr>\n",
              "    <tr>\n",
              "      <th>1</th>\n",
              "      <td>UGRD</td>\n",
              "      <td>Country Citizen</td>\n",
              "      <td>Singapore</td>\n",
              "      <td>1</td>\n",
              "      <td>1</td>\n",
              "      <td>Bachelor of Engineering</td>\n",
              "      <td>F</td>\n",
              "      <td>School of Engineering</td>\n",
              "      <td>Out of Campus</td>\n",
              "      <td>0</td>\n",
              "      <td>1</td>\n",
              "      <td>2</td>\n",
              "      <td>3</td>\n",
              "      <td>1</td>\n",
              "      <td>2</td>\n",
              "      <td>2.0</td>\n",
              "      <td>3.0</td>\n",
              "      <td>2</td>\n",
              "      <td>Friends+CCas+good result</td>\n",
              "    </tr>\n",
              "    <tr>\n",
              "      <th>2</th>\n",
              "      <td>UGRD</td>\n",
              "      <td>Foreigner</td>\n",
              "      <td>Malaysia</td>\n",
              "      <td>2</td>\n",
              "      <td>2</td>\n",
              "      <td>Bachelor of Science</td>\n",
              "      <td>M</td>\n",
              "      <td>School of Science</td>\n",
              "      <td>Halls</td>\n",
              "      <td>3</td>\n",
              "      <td>1</td>\n",
              "      <td>1</td>\n",
              "      <td>5</td>\n",
              "      <td>2</td>\n",
              "      <td>2</td>\n",
              "      <td>2.0</td>\n",
              "      <td>2.0</td>\n",
              "      <td>3</td>\n",
              "      <td>just want everything to go smooth. serious</td>\n",
              "    </tr>\n",
              "  </tbody>\n",
              "</table>\n",
              "</div>\n",
              "      <button class=\"colab-df-convert\" onclick=\"convertToInteractive('df-8154f73a-4d2c-434e-b82c-f49b5fe72f91')\"\n",
              "              title=\"Convert this dataframe to an interactive table.\"\n",
              "              style=\"display:none;\">\n",
              "        \n",
              "  <svg xmlns=\"http://www.w3.org/2000/svg\" height=\"24px\"viewBox=\"0 0 24 24\"\n",
              "       width=\"24px\">\n",
              "    <path d=\"M0 0h24v24H0V0z\" fill=\"none\"/>\n",
              "    <path d=\"M18.56 5.44l.94 2.06.94-2.06 2.06-.94-2.06-.94-.94-2.06-.94 2.06-2.06.94zm-11 1L8.5 8.5l.94-2.06 2.06-.94-2.06-.94L8.5 2.5l-.94 2.06-2.06.94zm10 10l.94 2.06.94-2.06 2.06-.94-2.06-.94-.94-2.06-.94 2.06-2.06.94z\"/><path d=\"M17.41 7.96l-1.37-1.37c-.4-.4-.92-.59-1.43-.59-.52 0-1.04.2-1.43.59L10.3 9.45l-7.72 7.72c-.78.78-.78 2.05 0 2.83L4 21.41c.39.39.9.59 1.41.59.51 0 1.02-.2 1.41-.59l7.78-7.78 2.81-2.81c.8-.78.8-2.07 0-2.86zM5.41 20L4 18.59l7.72-7.72 1.47 1.35L5.41 20z\"/>\n",
              "  </svg>\n",
              "      </button>\n",
              "      \n",
              "  <style>\n",
              "    .colab-df-container {\n",
              "      display:flex;\n",
              "      flex-wrap:wrap;\n",
              "      gap: 12px;\n",
              "    }\n",
              "\n",
              "    .colab-df-convert {\n",
              "      background-color: #E8F0FE;\n",
              "      border: none;\n",
              "      border-radius: 50%;\n",
              "      cursor: pointer;\n",
              "      display: none;\n",
              "      fill: #1967D2;\n",
              "      height: 32px;\n",
              "      padding: 0 0 0 0;\n",
              "      width: 32px;\n",
              "    }\n",
              "\n",
              "    .colab-df-convert:hover {\n",
              "      background-color: #E2EBFA;\n",
              "      box-shadow: 0px 1px 2px rgba(60, 64, 67, 0.3), 0px 1px 3px 1px rgba(60, 64, 67, 0.15);\n",
              "      fill: #174EA6;\n",
              "    }\n",
              "\n",
              "    [theme=dark] .colab-df-convert {\n",
              "      background-color: #3B4455;\n",
              "      fill: #D2E3FC;\n",
              "    }\n",
              "\n",
              "    [theme=dark] .colab-df-convert:hover {\n",
              "      background-color: #434B5C;\n",
              "      box-shadow: 0px 1px 3px 1px rgba(0, 0, 0, 0.15);\n",
              "      filter: drop-shadow(0px 1px 2px rgba(0, 0, 0, 0.3));\n",
              "      fill: #FFFFFF;\n",
              "    }\n",
              "  </style>\n",
              "\n",
              "      <script>\n",
              "        const buttonEl =\n",
              "          document.querySelector('#df-8154f73a-4d2c-434e-b82c-f49b5fe72f91 button.colab-df-convert');\n",
              "        buttonEl.style.display =\n",
              "          google.colab.kernel.accessAllowed ? 'block' : 'none';\n",
              "\n",
              "        async function convertToInteractive(key) {\n",
              "          const element = document.querySelector('#df-8154f73a-4d2c-434e-b82c-f49b5fe72f91');\n",
              "          const dataTable =\n",
              "            await google.colab.kernel.invokeFunction('convertToInteractive',\n",
              "                                                     [key], {});\n",
              "          if (!dataTable) return;\n",
              "\n",
              "          const docLinkHtml = 'Like what you see? Visit the ' +\n",
              "            '<a target=\"_blank\" href=https://colab.research.google.com/notebooks/data_table.ipynb>data table notebook</a>'\n",
              "            + ' to learn more about interactive tables.';\n",
              "          element.innerHTML = '';\n",
              "          dataTable['output_type'] = 'display_data';\n",
              "          await google.colab.output.renderOutput(dataTable, element);\n",
              "          const docLink = document.createElement('div');\n",
              "          docLink.innerHTML = docLinkHtml;\n",
              "          element.appendChild(docLink);\n",
              "        }\n",
              "      </script>\n",
              "    </div>\n",
              "  </div>\n",
              "  "
            ]
          },
          "metadata": {},
          "execution_count": 51
        }
      ]
    },
    {
      "cell_type": "code",
      "source": [
        "data.shape"
      ],
      "metadata": {
        "colab": {
          "base_uri": "https://localhost:8080/"
        },
        "id": "GfzF1rBEFDwJ",
        "outputId": "72db08c6-b6c4-4dc9-af40-9b02442857c0"
      },
      "execution_count": null,
      "outputs": [
        {
          "output_type": "execute_result",
          "data": {
            "text/plain": [
              "(2958, 19)"
            ]
          },
          "metadata": {},
          "execution_count": 3
        }
      ]
    },
    {
      "cell_type": "code",
      "source": [
        "data.info()\n"
      ],
      "metadata": {
        "colab": {
          "base_uri": "https://localhost:8080/"
        },
        "id": "8_U4btfpFG5a",
        "outputId": "317c90ce-9d7b-4032-bdcf-92d63726cd62"
      },
      "execution_count": null,
      "outputs": [
        {
          "output_type": "stream",
          "name": "stdout",
          "text": [
            "<class 'pandas.core.frame.DataFrame'>\n",
            "RangeIndex: 2958 entries, 0 to 2957\n",
            "Data columns (total 19 columns):\n",
            " #   Column                                                    Non-Null Count  Dtype  \n",
            "---  ------                                                    --------------  -----  \n",
            " 0   Career                                                    2958 non-null   object \n",
            " 1   Citizenship                                               2958 non-null   object \n",
            " 2   Nationality                                               2958 non-null   object \n",
            " 3   Year since Matriculation                                  2958 non-null   int64  \n",
            " 4   Year of Study                                             2958 non-null   int64  \n",
            " 5   Primary Programme                                         2958 non-null   object \n",
            " 6   Gender                                                    2958 non-null   object \n",
            " 7   Department                                                2958 non-null   object \n",
            " 8   Housing Type                                              2958 non-null   object \n",
            " 9   Q1-How many events have you Volunteered in ?              2958 non-null   int64  \n",
            " 10  Q2-How many events have you Participated in ?             2958 non-null   int64  \n",
            " 11  Q3-How many activities are you Interested in ?            2958 non-null   int64  \n",
            " 12  Q4-How many activities are you Passionate about ?         2958 non-null   int64  \n",
            " 13  Q5-What are your levels of stress ?                       2958 non-null   int64  \n",
            " 14  Q6-How Satisfied You are with your Student Life ?         2958 non-null   int64  \n",
            " 15  Q7-How much effort do you make to interact with others ?  2940 non-null   float64\n",
            " 16  Q8-About How events are you aware about ?                 2940 non-null   float64\n",
            " 17  response_id                                               2958 non-null   int64  \n",
            " 18  Q9-What is an ideal student life ?                        2371 non-null   object \n",
            "dtypes: float64(2), int64(9), object(8)\n",
            "memory usage: 439.2+ KB\n"
          ]
        }
      ]
    },
    {
      "cell_type": "code",
      "source": [
        "data.columns"
      ],
      "metadata": {
        "colab": {
          "base_uri": "https://localhost:8080/"
        },
        "id": "QDIeYiPbFKWf",
        "outputId": "c2bd5a2d-84b5-4919-8d88-36471a120934"
      },
      "execution_count": null,
      "outputs": [
        {
          "output_type": "execute_result",
          "data": {
            "text/plain": [
              "Index(['Career', 'Citizenship', 'Nationality', 'Year since Matriculation',\n",
              "       'Year of Study', 'Primary Programme', 'Gender', 'Department',\n",
              "       'Housing Type', 'Q1-How many events have you Volunteered in ?',\n",
              "       'Q2-How many events have you Participated in ?',\n",
              "       'Q3-How many activities are you Interested in ?',\n",
              "       'Q4-How many activities are you Passionate about ?',\n",
              "       'Q5-What are your levels of stress ?',\n",
              "       'Q6-How Satisfied You are with your Student Life ?',\n",
              "       'Q7-How much effort do you make to interact with others ?',\n",
              "       'Q8-About How events are you aware about ?', 'response_id',\n",
              "       'Q9-What is an ideal student life ?'],\n",
              "      dtype='object')"
            ]
          },
          "metadata": {},
          "execution_count": 5
        }
      ]
    },
    {
      "cell_type": "code",
      "source": [],
      "metadata": {
        "id": "dSYvjnoFNDOE"
      },
      "execution_count": null,
      "outputs": []
    },
    {
      "cell_type": "markdown",
      "source": [
        "**Data Cleaning**"
      ],
      "metadata": {
        "id": "kv9SHR49FkEU"
      }
    },
    {
      "cell_type": "code",
      "source": [
        "#check for null values\n",
        "#there are null values only in Q7 and Q8\n",
        "data.isnull().sum()"
      ],
      "metadata": {
        "colab": {
          "base_uri": "https://localhost:8080/"
        },
        "id": "R5xh1z3BGYRY",
        "outputId": "36223530-077a-4046-c5e3-d7822cb65f5f"
      },
      "execution_count": null,
      "outputs": [
        {
          "output_type": "execute_result",
          "data": {
            "text/plain": [
              "Career                                                        0\n",
              "Citizenship                                                   0\n",
              "Nationality                                                   0\n",
              "Year since Matriculation                                      0\n",
              "Year of Study                                                 0\n",
              "Primary Programme                                             0\n",
              "Gender                                                        0\n",
              "Department                                                    0\n",
              "Housing Type                                                  0\n",
              "Q1-How many events have you Volunteered in ?                  0\n",
              "Q2-How many events have you Participated in ?                 0\n",
              "Q3-How many activities are you Interested in ?                0\n",
              "Q4-How many activities are you Passionate about ?             0\n",
              "Q5-What are your levels of stress ?                           0\n",
              "Q6-How Satisfied You are with your Student Life ?             0\n",
              "Q7-How much effort do you make to interact with others ?     18\n",
              "Q8-About How events are you aware about ?                    18\n",
              "response_id                                                   0\n",
              "Q9-What is an ideal student life ?                          587\n",
              "dtype: int64"
            ]
          },
          "metadata": {},
          "execution_count": 52
        }
      ]
    },
    {
      "cell_type": "code",
      "source": [
        "data['Q7-How much effort do you make to interact with others ?'].isnull().sum()"
      ],
      "metadata": {
        "colab": {
          "base_uri": "https://localhost:8080/"
        },
        "id": "05LD0Nz1GSqB",
        "outputId": "695c116a-439c-48cc-a760-9260edfe1328"
      },
      "execution_count": null,
      "outputs": [
        {
          "output_type": "execute_result",
          "data": {
            "text/plain": [
              "18"
            ]
          },
          "metadata": {},
          "execution_count": 53
        }
      ]
    },
    {
      "cell_type": "code",
      "source": [
        "data['Q7-How much effort do you make to interact with others ?'].mode()"
      ],
      "metadata": {
        "colab": {
          "base_uri": "https://localhost:8080/"
        },
        "id": "SNYKIAt3GSmx",
        "outputId": "533655f8-1b0f-4182-a4e7-3bfa3e4f2a03"
      },
      "execution_count": null,
      "outputs": [
        {
          "output_type": "execute_result",
          "data": {
            "text/plain": [
              "0    2.0\n",
              "Name: Q7-How much effort do you make to interact with others ?, dtype: float64"
            ]
          },
          "metadata": {},
          "execution_count": 54
        }
      ]
    },
    {
      "cell_type": "code",
      "source": [
        "data['Q7-How much effort do you make to interact with others ?'].mean()\n"
      ],
      "metadata": {
        "colab": {
          "base_uri": "https://localhost:8080/"
        },
        "id": "7XpRj4zFGqzO",
        "outputId": "73935157-7250-4aba-c65e-89aefdc8eb11"
      },
      "execution_count": null,
      "outputs": [
        {
          "output_type": "execute_result",
          "data": {
            "text/plain": [
              "1.963265306122449"
            ]
          },
          "metadata": {},
          "execution_count": 55
        }
      ]
    },
    {
      "cell_type": "code",
      "source": [
        "data['Q7-How much effort do you make to interact with others ?'].median()"
      ],
      "metadata": {
        "colab": {
          "base_uri": "https://localhost:8080/"
        },
        "id": "7EngP4nIGe6n",
        "outputId": "dc67773f-0df9-4c33-cd47-7f9e9fcbf186"
      },
      "execution_count": null,
      "outputs": [
        {
          "output_type": "execute_result",
          "data": {
            "text/plain": [
              "2.0"
            ]
          },
          "metadata": {},
          "execution_count": 56
        }
      ]
    },
    {
      "cell_type": "code",
      "source": [
        "data['Q7-How much effort do you make to interact with others ?'].fillna('2',inplace=True)\n",
        ""
      ],
      "metadata": {
        "id": "ACMjBCpnG96S"
      },
      "execution_count": null,
      "outputs": []
    },
    {
      "cell_type": "code",
      "source": [
        "data['Q7-How much effort do you make to interact with others ?'].isnull().sum()"
      ],
      "metadata": {
        "colab": {
          "base_uri": "https://localhost:8080/"
        },
        "id": "KMjX9qhUGkdS",
        "outputId": "9b8ac70d-a367-49d2-efa0-4b4b38acdaec"
      },
      "execution_count": null,
      "outputs": [
        {
          "output_type": "execute_result",
          "data": {
            "text/plain": [
              "0"
            ]
          },
          "metadata": {},
          "execution_count": 58
        }
      ]
    },
    {
      "cell_type": "code",
      "source": [
        "data['Q8-About How events are you aware about ?'].mode()"
      ],
      "metadata": {
        "colab": {
          "base_uri": "https://localhost:8080/"
        },
        "id": "2yOhTsjYGmt8",
        "outputId": "97a286f6-0ee8-4c94-eb1a-876a124b0dce"
      },
      "execution_count": null,
      "outputs": [
        {
          "output_type": "execute_result",
          "data": {
            "text/plain": [
              "0    2.0\n",
              "Name: Q8-About How events are you aware about ?, dtype: float64"
            ]
          },
          "metadata": {},
          "execution_count": 59
        }
      ]
    },
    {
      "cell_type": "code",
      "source": [
        "data['Q8-About How events are you aware about ?'].median()"
      ],
      "metadata": {
        "colab": {
          "base_uri": "https://localhost:8080/"
        },
        "id": "9E3rM0PTGs_W",
        "outputId": "ae40d356-efa3-430c-df2f-021c241b8da8"
      },
      "execution_count": null,
      "outputs": [
        {
          "output_type": "execute_result",
          "data": {
            "text/plain": [
              "2.0"
            ]
          },
          "metadata": {},
          "execution_count": 60
        }
      ]
    },
    {
      "cell_type": "code",
      "source": [
        "data['Q8-About How events are you aware about ?'].fillna('2',inplace=True)"
      ],
      "metadata": {
        "id": "pjWYdBWZHAeG"
      },
      "execution_count": null,
      "outputs": []
    },
    {
      "cell_type": "code",
      "source": [
        "#using dummies to the attribute Citizenship\n",
        "data[\"Citizenship\"].replace({\"permanent Resident\":\"Foreigner\",\"Permanent Resident\":\"Foreigner\",\"Permanent resident\":'Foreigner'},inplace=True)\n"
      ],
      "metadata": {
        "id": "Yhxg6geYF_iT"
      },
      "execution_count": null,
      "outputs": []
    },
    {
      "cell_type": "code",
      "source": [
        "#Using Dummies to the attribute Gender\n",
        "data[\"Gender\"].replace({\"F\":0,\"M\":1},inplace=True)\n"
      ],
      "metadata": {
        "id": "D-QJDJsgHy5A"
      },
      "execution_count": null,
      "outputs": []
    },
    {
      "cell_type": "code",
      "source": [
        "data[\"Citizenship\"].replace({\"Foreigner\":0,\"Country Citizen\":1},inplace=True)\n",
        "data.head(2)"
      ],
      "metadata": {
        "colab": {
          "base_uri": "https://localhost:8080/",
          "height": 349
        },
        "id": "R4oAx1uSGDwp",
        "outputId": "fd02c783-1f02-4a04-94d8-0991a249765f"
      },
      "execution_count": null,
      "outputs": [
        {
          "output_type": "execute_result",
          "data": {
            "text/plain": [
              "  Career  Citizenship Nationality  Year since Matriculation  Year of Study  \\\n",
              "0   UGRD            0   Indonesia                         2              2   \n",
              "1   UGRD            1   Singapore                         1              1   \n",
              "\n",
              "         Primary Programme  Gender             Department   Housing Type  \\\n",
              "0      Bachelor of Science       0      School of Science     Residences   \n",
              "1  Bachelor of Engineering       0  School of Engineering  Out of Campus   \n",
              "\n",
              "   Q1-How many events have you Volunteered in ?  \\\n",
              "0                                             0   \n",
              "1                                             0   \n",
              "\n",
              "   Q2-How many events have you Participated in ?  \\\n",
              "0                                              1   \n",
              "1                                              1   \n",
              "\n",
              "   Q3-How many activities are you Interested in ?  \\\n",
              "0                                               3   \n",
              "1                                               2   \n",
              "\n",
              "   Q4-How many activities are you Passionate about ?  \\\n",
              "0                                                  1   \n",
              "1                                                  3   \n",
              "\n",
              "   Q5-What are your levels of stress ?  \\\n",
              "0                                    1   \n",
              "1                                    1   \n",
              "\n",
              "   Q6-How Satisfied You are with your Student Life ?  \\\n",
              "0                                                  2   \n",
              "1                                                  2   \n",
              "\n",
              "  Q7-How much effort do you make to interact with others ?  \\\n",
              "0                                                2.0         \n",
              "1                                                2.0         \n",
              "\n",
              "  Q8-About How events are you aware about ?  response_id  \\\n",
              "0                                       2.0            1   \n",
              "1                                       3.0            2   \n",
              "\n",
              "  Q9-What is an ideal student life ?  \n",
              "0                                NaN  \n",
              "1           Friends+CCas+good result  "
            ],
            "text/html": [
              "\n",
              "  <div id=\"df-e3dd4740-97c6-431e-8c84-0cdffc5f12ed\">\n",
              "    <div class=\"colab-df-container\">\n",
              "      <div>\n",
              "<style scoped>\n",
              "    .dataframe tbody tr th:only-of-type {\n",
              "        vertical-align: middle;\n",
              "    }\n",
              "\n",
              "    .dataframe tbody tr th {\n",
              "        vertical-align: top;\n",
              "    }\n",
              "\n",
              "    .dataframe thead th {\n",
              "        text-align: right;\n",
              "    }\n",
              "</style>\n",
              "<table border=\"1\" class=\"dataframe\">\n",
              "  <thead>\n",
              "    <tr style=\"text-align: right;\">\n",
              "      <th></th>\n",
              "      <th>Career</th>\n",
              "      <th>Citizenship</th>\n",
              "      <th>Nationality</th>\n",
              "      <th>Year since Matriculation</th>\n",
              "      <th>Year of Study</th>\n",
              "      <th>Primary Programme</th>\n",
              "      <th>Gender</th>\n",
              "      <th>Department</th>\n",
              "      <th>Housing Type</th>\n",
              "      <th>Q1-How many events have you Volunteered in ?</th>\n",
              "      <th>Q2-How many events have you Participated in ?</th>\n",
              "      <th>Q3-How many activities are you Interested in ?</th>\n",
              "      <th>Q4-How many activities are you Passionate about ?</th>\n",
              "      <th>Q5-What are your levels of stress ?</th>\n",
              "      <th>Q6-How Satisfied You are with your Student Life ?</th>\n",
              "      <th>Q7-How much effort do you make to interact with others ?</th>\n",
              "      <th>Q8-About How events are you aware about ?</th>\n",
              "      <th>response_id</th>\n",
              "      <th>Q9-What is an ideal student life ?</th>\n",
              "    </tr>\n",
              "  </thead>\n",
              "  <tbody>\n",
              "    <tr>\n",
              "      <th>0</th>\n",
              "      <td>UGRD</td>\n",
              "      <td>0</td>\n",
              "      <td>Indonesia</td>\n",
              "      <td>2</td>\n",
              "      <td>2</td>\n",
              "      <td>Bachelor of Science</td>\n",
              "      <td>0</td>\n",
              "      <td>School of Science</td>\n",
              "      <td>Residences</td>\n",
              "      <td>0</td>\n",
              "      <td>1</td>\n",
              "      <td>3</td>\n",
              "      <td>1</td>\n",
              "      <td>1</td>\n",
              "      <td>2</td>\n",
              "      <td>2.0</td>\n",
              "      <td>2.0</td>\n",
              "      <td>1</td>\n",
              "      <td>NaN</td>\n",
              "    </tr>\n",
              "    <tr>\n",
              "      <th>1</th>\n",
              "      <td>UGRD</td>\n",
              "      <td>1</td>\n",
              "      <td>Singapore</td>\n",
              "      <td>1</td>\n",
              "      <td>1</td>\n",
              "      <td>Bachelor of Engineering</td>\n",
              "      <td>0</td>\n",
              "      <td>School of Engineering</td>\n",
              "      <td>Out of Campus</td>\n",
              "      <td>0</td>\n",
              "      <td>1</td>\n",
              "      <td>2</td>\n",
              "      <td>3</td>\n",
              "      <td>1</td>\n",
              "      <td>2</td>\n",
              "      <td>2.0</td>\n",
              "      <td>3.0</td>\n",
              "      <td>2</td>\n",
              "      <td>Friends+CCas+good result</td>\n",
              "    </tr>\n",
              "  </tbody>\n",
              "</table>\n",
              "</div>\n",
              "      <button class=\"colab-df-convert\" onclick=\"convertToInteractive('df-e3dd4740-97c6-431e-8c84-0cdffc5f12ed')\"\n",
              "              title=\"Convert this dataframe to an interactive table.\"\n",
              "              style=\"display:none;\">\n",
              "        \n",
              "  <svg xmlns=\"http://www.w3.org/2000/svg\" height=\"24px\"viewBox=\"0 0 24 24\"\n",
              "       width=\"24px\">\n",
              "    <path d=\"M0 0h24v24H0V0z\" fill=\"none\"/>\n",
              "    <path d=\"M18.56 5.44l.94 2.06.94-2.06 2.06-.94-2.06-.94-.94-2.06-.94 2.06-2.06.94zm-11 1L8.5 8.5l.94-2.06 2.06-.94-2.06-.94L8.5 2.5l-.94 2.06-2.06.94zm10 10l.94 2.06.94-2.06 2.06-.94-2.06-.94-.94-2.06-.94 2.06-2.06.94z\"/><path d=\"M17.41 7.96l-1.37-1.37c-.4-.4-.92-.59-1.43-.59-.52 0-1.04.2-1.43.59L10.3 9.45l-7.72 7.72c-.78.78-.78 2.05 0 2.83L4 21.41c.39.39.9.59 1.41.59.51 0 1.02-.2 1.41-.59l7.78-7.78 2.81-2.81c.8-.78.8-2.07 0-2.86zM5.41 20L4 18.59l7.72-7.72 1.47 1.35L5.41 20z\"/>\n",
              "  </svg>\n",
              "      </button>\n",
              "      \n",
              "  <style>\n",
              "    .colab-df-container {\n",
              "      display:flex;\n",
              "      flex-wrap:wrap;\n",
              "      gap: 12px;\n",
              "    }\n",
              "\n",
              "    .colab-df-convert {\n",
              "      background-color: #E8F0FE;\n",
              "      border: none;\n",
              "      border-radius: 50%;\n",
              "      cursor: pointer;\n",
              "      display: none;\n",
              "      fill: #1967D2;\n",
              "      height: 32px;\n",
              "      padding: 0 0 0 0;\n",
              "      width: 32px;\n",
              "    }\n",
              "\n",
              "    .colab-df-convert:hover {\n",
              "      background-color: #E2EBFA;\n",
              "      box-shadow: 0px 1px 2px rgba(60, 64, 67, 0.3), 0px 1px 3px 1px rgba(60, 64, 67, 0.15);\n",
              "      fill: #174EA6;\n",
              "    }\n",
              "\n",
              "    [theme=dark] .colab-df-convert {\n",
              "      background-color: #3B4455;\n",
              "      fill: #D2E3FC;\n",
              "    }\n",
              "\n",
              "    [theme=dark] .colab-df-convert:hover {\n",
              "      background-color: #434B5C;\n",
              "      box-shadow: 0px 1px 3px 1px rgba(0, 0, 0, 0.15);\n",
              "      filter: drop-shadow(0px 1px 2px rgba(0, 0, 0, 0.3));\n",
              "      fill: #FFFFFF;\n",
              "    }\n",
              "  </style>\n",
              "\n",
              "      <script>\n",
              "        const buttonEl =\n",
              "          document.querySelector('#df-e3dd4740-97c6-431e-8c84-0cdffc5f12ed button.colab-df-convert');\n",
              "        buttonEl.style.display =\n",
              "          google.colab.kernel.accessAllowed ? 'block' : 'none';\n",
              "\n",
              "        async function convertToInteractive(key) {\n",
              "          const element = document.querySelector('#df-e3dd4740-97c6-431e-8c84-0cdffc5f12ed');\n",
              "          const dataTable =\n",
              "            await google.colab.kernel.invokeFunction('convertToInteractive',\n",
              "                                                     [key], {});\n",
              "          if (!dataTable) return;\n",
              "\n",
              "          const docLinkHtml = 'Like what you see? Visit the ' +\n",
              "            '<a target=\"_blank\" href=https://colab.research.google.com/notebooks/data_table.ipynb>data table notebook</a>'\n",
              "            + ' to learn more about interactive tables.';\n",
              "          element.innerHTML = '';\n",
              "          dataTable['output_type'] = 'display_data';\n",
              "          await google.colab.output.renderOutput(dataTable, element);\n",
              "          const docLink = document.createElement('div');\n",
              "          docLink.innerHTML = docLinkHtml;\n",
              "          element.appendChild(docLink);\n",
              "        }\n",
              "      </script>\n",
              "    </div>\n",
              "  </div>\n",
              "  "
            ]
          },
          "metadata": {},
          "execution_count": 64
        }
      ]
    },
    {
      "cell_type": "code",
      "source": [
        "newdata=data.drop(['Year since Matriculation','response_id','Q9-What is an ideal student life ?'],axis=1)\n",
        "newdata.head(3)"
      ],
      "metadata": {
        "colab": {
          "base_uri": "https://localhost:8080/",
          "height": 398
        },
        "id": "r5SBhh1m23wI",
        "outputId": "91d683c5-e1f5-4b44-91ac-9997a1ce96ec"
      },
      "execution_count": null,
      "outputs": [
        {
          "output_type": "execute_result",
          "data": {
            "text/plain": [
              "  Career  Citizenship Nationality  Year of Study        Primary Programme  \\\n",
              "0   UGRD            0   Indonesia              2      Bachelor of Science   \n",
              "1   UGRD            1   Singapore              1  Bachelor of Engineering   \n",
              "2   UGRD            0    Malaysia              2      Bachelor of Science   \n",
              "\n",
              "   Gender             Department   Housing Type  \\\n",
              "0       0      School of Science     Residences   \n",
              "1       0  School of Engineering  Out of Campus   \n",
              "2       1      School of Science          Halls   \n",
              "\n",
              "   Q1-How many events have you Volunteered in ?  \\\n",
              "0                                             0   \n",
              "1                                             0   \n",
              "2                                             3   \n",
              "\n",
              "   Q2-How many events have you Participated in ?  \\\n",
              "0                                              1   \n",
              "1                                              1   \n",
              "2                                              1   \n",
              "\n",
              "   Q3-How many activities are you Interested in ?  \\\n",
              "0                                               3   \n",
              "1                                               2   \n",
              "2                                               1   \n",
              "\n",
              "   Q4-How many activities are you Passionate about ?  \\\n",
              "0                                                  1   \n",
              "1                                                  3   \n",
              "2                                                  5   \n",
              "\n",
              "   Q5-What are your levels of stress ?  \\\n",
              "0                                    1   \n",
              "1                                    1   \n",
              "2                                    2   \n",
              "\n",
              "   Q6-How Satisfied You are with your Student Life ?  \\\n",
              "0                                                  2   \n",
              "1                                                  2   \n",
              "2                                                  2   \n",
              "\n",
              "  Q7-How much effort do you make to interact with others ?  \\\n",
              "0                                                2.0         \n",
              "1                                                2.0         \n",
              "2                                                2.0         \n",
              "\n",
              "  Q8-About How events are you aware about ?  \n",
              "0                                       2.0  \n",
              "1                                       3.0  \n",
              "2                                       2.0  "
            ],
            "text/html": [
              "\n",
              "  <div id=\"df-cb115d36-deaa-4bba-8ee7-c37b5622fad4\">\n",
              "    <div class=\"colab-df-container\">\n",
              "      <div>\n",
              "<style scoped>\n",
              "    .dataframe tbody tr th:only-of-type {\n",
              "        vertical-align: middle;\n",
              "    }\n",
              "\n",
              "    .dataframe tbody tr th {\n",
              "        vertical-align: top;\n",
              "    }\n",
              "\n",
              "    .dataframe thead th {\n",
              "        text-align: right;\n",
              "    }\n",
              "</style>\n",
              "<table border=\"1\" class=\"dataframe\">\n",
              "  <thead>\n",
              "    <tr style=\"text-align: right;\">\n",
              "      <th></th>\n",
              "      <th>Career</th>\n",
              "      <th>Citizenship</th>\n",
              "      <th>Nationality</th>\n",
              "      <th>Year of Study</th>\n",
              "      <th>Primary Programme</th>\n",
              "      <th>Gender</th>\n",
              "      <th>Department</th>\n",
              "      <th>Housing Type</th>\n",
              "      <th>Q1-How many events have you Volunteered in ?</th>\n",
              "      <th>Q2-How many events have you Participated in ?</th>\n",
              "      <th>Q3-How many activities are you Interested in ?</th>\n",
              "      <th>Q4-How many activities are you Passionate about ?</th>\n",
              "      <th>Q5-What are your levels of stress ?</th>\n",
              "      <th>Q6-How Satisfied You are with your Student Life ?</th>\n",
              "      <th>Q7-How much effort do you make to interact with others ?</th>\n",
              "      <th>Q8-About How events are you aware about ?</th>\n",
              "    </tr>\n",
              "  </thead>\n",
              "  <tbody>\n",
              "    <tr>\n",
              "      <th>0</th>\n",
              "      <td>UGRD</td>\n",
              "      <td>0</td>\n",
              "      <td>Indonesia</td>\n",
              "      <td>2</td>\n",
              "      <td>Bachelor of Science</td>\n",
              "      <td>0</td>\n",
              "      <td>School of Science</td>\n",
              "      <td>Residences</td>\n",
              "      <td>0</td>\n",
              "      <td>1</td>\n",
              "      <td>3</td>\n",
              "      <td>1</td>\n",
              "      <td>1</td>\n",
              "      <td>2</td>\n",
              "      <td>2.0</td>\n",
              "      <td>2.0</td>\n",
              "    </tr>\n",
              "    <tr>\n",
              "      <th>1</th>\n",
              "      <td>UGRD</td>\n",
              "      <td>1</td>\n",
              "      <td>Singapore</td>\n",
              "      <td>1</td>\n",
              "      <td>Bachelor of Engineering</td>\n",
              "      <td>0</td>\n",
              "      <td>School of Engineering</td>\n",
              "      <td>Out of Campus</td>\n",
              "      <td>0</td>\n",
              "      <td>1</td>\n",
              "      <td>2</td>\n",
              "      <td>3</td>\n",
              "      <td>1</td>\n",
              "      <td>2</td>\n",
              "      <td>2.0</td>\n",
              "      <td>3.0</td>\n",
              "    </tr>\n",
              "    <tr>\n",
              "      <th>2</th>\n",
              "      <td>UGRD</td>\n",
              "      <td>0</td>\n",
              "      <td>Malaysia</td>\n",
              "      <td>2</td>\n",
              "      <td>Bachelor of Science</td>\n",
              "      <td>1</td>\n",
              "      <td>School of Science</td>\n",
              "      <td>Halls</td>\n",
              "      <td>3</td>\n",
              "      <td>1</td>\n",
              "      <td>1</td>\n",
              "      <td>5</td>\n",
              "      <td>2</td>\n",
              "      <td>2</td>\n",
              "      <td>2.0</td>\n",
              "      <td>2.0</td>\n",
              "    </tr>\n",
              "  </tbody>\n",
              "</table>\n",
              "</div>\n",
              "      <button class=\"colab-df-convert\" onclick=\"convertToInteractive('df-cb115d36-deaa-4bba-8ee7-c37b5622fad4')\"\n",
              "              title=\"Convert this dataframe to an interactive table.\"\n",
              "              style=\"display:none;\">\n",
              "        \n",
              "  <svg xmlns=\"http://www.w3.org/2000/svg\" height=\"24px\"viewBox=\"0 0 24 24\"\n",
              "       width=\"24px\">\n",
              "    <path d=\"M0 0h24v24H0V0z\" fill=\"none\"/>\n",
              "    <path d=\"M18.56 5.44l.94 2.06.94-2.06 2.06-.94-2.06-.94-.94-2.06-.94 2.06-2.06.94zm-11 1L8.5 8.5l.94-2.06 2.06-.94-2.06-.94L8.5 2.5l-.94 2.06-2.06.94zm10 10l.94 2.06.94-2.06 2.06-.94-2.06-.94-.94-2.06-.94 2.06-2.06.94z\"/><path d=\"M17.41 7.96l-1.37-1.37c-.4-.4-.92-.59-1.43-.59-.52 0-1.04.2-1.43.59L10.3 9.45l-7.72 7.72c-.78.78-.78 2.05 0 2.83L4 21.41c.39.39.9.59 1.41.59.51 0 1.02-.2 1.41-.59l7.78-7.78 2.81-2.81c.8-.78.8-2.07 0-2.86zM5.41 20L4 18.59l7.72-7.72 1.47 1.35L5.41 20z\"/>\n",
              "  </svg>\n",
              "      </button>\n",
              "      \n",
              "  <style>\n",
              "    .colab-df-container {\n",
              "      display:flex;\n",
              "      flex-wrap:wrap;\n",
              "      gap: 12px;\n",
              "    }\n",
              "\n",
              "    .colab-df-convert {\n",
              "      background-color: #E8F0FE;\n",
              "      border: none;\n",
              "      border-radius: 50%;\n",
              "      cursor: pointer;\n",
              "      display: none;\n",
              "      fill: #1967D2;\n",
              "      height: 32px;\n",
              "      padding: 0 0 0 0;\n",
              "      width: 32px;\n",
              "    }\n",
              "\n",
              "    .colab-df-convert:hover {\n",
              "      background-color: #E2EBFA;\n",
              "      box-shadow: 0px 1px 2px rgba(60, 64, 67, 0.3), 0px 1px 3px 1px rgba(60, 64, 67, 0.15);\n",
              "      fill: #174EA6;\n",
              "    }\n",
              "\n",
              "    [theme=dark] .colab-df-convert {\n",
              "      background-color: #3B4455;\n",
              "      fill: #D2E3FC;\n",
              "    }\n",
              "\n",
              "    [theme=dark] .colab-df-convert:hover {\n",
              "      background-color: #434B5C;\n",
              "      box-shadow: 0px 1px 3px 1px rgba(0, 0, 0, 0.15);\n",
              "      filter: drop-shadow(0px 1px 2px rgba(0, 0, 0, 0.3));\n",
              "      fill: #FFFFFF;\n",
              "    }\n",
              "  </style>\n",
              "\n",
              "      <script>\n",
              "        const buttonEl =\n",
              "          document.querySelector('#df-cb115d36-deaa-4bba-8ee7-c37b5622fad4 button.colab-df-convert');\n",
              "        buttonEl.style.display =\n",
              "          google.colab.kernel.accessAllowed ? 'block' : 'none';\n",
              "\n",
              "        async function convertToInteractive(key) {\n",
              "          const element = document.querySelector('#df-cb115d36-deaa-4bba-8ee7-c37b5622fad4');\n",
              "          const dataTable =\n",
              "            await google.colab.kernel.invokeFunction('convertToInteractive',\n",
              "                                                     [key], {});\n",
              "          if (!dataTable) return;\n",
              "\n",
              "          const docLinkHtml = 'Like what you see? Visit the ' +\n",
              "            '<a target=\"_blank\" href=https://colab.research.google.com/notebooks/data_table.ipynb>data table notebook</a>'\n",
              "            + ' to learn more about interactive tables.';\n",
              "          element.innerHTML = '';\n",
              "          dataTable['output_type'] = 'display_data';\n",
              "          await google.colab.output.renderOutput(dataTable, element);\n",
              "          const docLink = document.createElement('div');\n",
              "          docLink.innerHTML = docLinkHtml;\n",
              "          element.appendChild(docLink);\n",
              "        }\n",
              "      </script>\n",
              "    </div>\n",
              "  </div>\n",
              "  "
            ]
          },
          "metadata": {},
          "execution_count": 65
        }
      ]
    },
    {
      "cell_type": "markdown",
      "source": [
        "**Data Visualization**"
      ],
      "metadata": {
        "id": "7vClTfNyORh2"
      }
    },
    {
      "cell_type": "code",
      "source": [
        "import matplotlib.pyplot as plt\n",
        "%matplotlib inline\n",
        "import seaborn as sns\n",
        ""
      ],
      "metadata": {
        "id": "kD8QSr77OUWI"
      },
      "execution_count": null,
      "outputs": []
    },
    {
      "cell_type": "code",
      "source": [
        "newdata['Career'].value_counts()\n",
        ""
      ],
      "metadata": {
        "colab": {
          "base_uri": "https://localhost:8080/"
        },
        "id": "EMLWoTpkUrAM",
        "outputId": "40c38e34-1312-4162-8215-9a57b41b822f"
      },
      "execution_count": null,
      "outputs": [
        {
          "output_type": "execute_result",
          "data": {
            "text/plain": [
              "UGRD    2694\n",
              "GRAD     218\n",
              "NGRD      46\n",
              "Name: Career, dtype: int64"
            ]
          },
          "metadata": {},
          "execution_count": 21
        }
      ]
    },
    {
      "cell_type": "code",
      "source": [
        "newdata['Career'].value_counts().plot.pie(autopct='%.2f',figsize=(8,6),fontsize=12)\n",
        "plt.title('Career ',fontsize=16)"
      ],
      "metadata": {
        "colab": {
          "base_uri": "https://localhost:8080/",
          "height": 540
        },
        "id": "cSVefpVAUuCc",
        "outputId": "11da2274-453f-410e-fdbb-f606b3b558c6"
      },
      "execution_count": null,
      "outputs": [
        {
          "output_type": "execute_result",
          "data": {
            "text/plain": [
              "Text(0.5, 1.0, 'Career ')"
            ]
          },
          "metadata": {},
          "execution_count": 22
        },
        {
          "output_type": "display_data",
          "data": {
            "text/plain": [
              "<Figure size 800x600 with 1 Axes>"
            ],
            "image/png": "[encoded data removed]"
          },
          "metadata": {}
        }
      ]
    },
    {
      "cell_type": "code",
      "source": [
        "newdata['Citizenship'].value_counts()"
      ],
      "metadata": {
        "colab": {
          "base_uri": "https://localhost:8080/"
        },
        "id": "V_qy8568U01l",
        "outputId": "440289ee-c6f2-4299-b63a-56823591edf9"
      },
      "execution_count": null,
      "outputs": [
        {
          "output_type": "execute_result",
          "data": {
            "text/plain": [
              "1    2467\n",
              "0     491\n",
              "Name: Citizenship, dtype: int64"
            ]
          },
          "metadata": {},
          "execution_count": 23
        }
      ]
    },
    {
      "cell_type": "code",
      "source": [
        "newdata['Citizenship'].value_counts().plot.pie(autopct='%.2f',figsize=(8,6),fontsize=12)\n",
        "plt.title('Citizenship',fontsize=16)"
      ],
      "metadata": {
        "colab": {
          "base_uri": "https://localhost:8080/",
          "height": 540
        },
        "id": "mtMgsTezU352",
        "outputId": "8b238950-d0a9-4a9e-87fb-e565d6e4be1b"
      },
      "execution_count": null,
      "outputs": [
        {
          "output_type": "execute_result",
          "data": {
            "text/plain": [
              "Text(0.5, 1.0, 'Citizenship')"
            ]
          },
          "metadata": {},
          "execution_count": 24
        },
        {
          "output_type": "display_data",
          "data": {
            "text/plain": [
              "<Figure size 800x600 with 1 Axes>"
            ],
            "image/png": "[encoded data removed]"
          },
          "metadata": {}
        }
      ]
    },
    {
      "cell_type": "code",
      "source": [
        "newdata['Nationality'].value_counts()"
      ],
      "metadata": {
        "colab": {
          "base_uri": "https://localhost:8080/"
        },
        "id": "uecWBuOBVCx9",
        "outputId": "8587b7bd-9ea9-4301-d163-b35ee9a4099e"
      },
      "execution_count": null,
      "outputs": [
        {
          "output_type": "execute_result",
          "data": {
            "text/plain": [
              "Singapore                    2467\n",
              "China                         158\n",
              "Malaysia                      130\n",
              "India                          47\n",
              "Indonesia                      39\n",
              "Viet Nam                       20\n",
              "Canada                         17\n",
              "United States                  15\n",
              "Taiwan                         13\n",
              "Korea, Republic of             10\n",
              "Myanmar                         7\n",
              "Hong Kong                       4\n",
              "Philippines                     3\n",
              "Germany                         3\n",
              "Thailand                        3\n",
              "United Kingdom                  2\n",
              "Japan                           2\n",
              "Sri Lanka                       2\n",
              "Nepal                           2\n",
              "Mexico                          2\n",
              "Bangladesh                      2\n",
              "Pakistan                        1\n",
              "Switzerland                     1\n",
              "Israel                          1\n",
              "Australia                       1\n",
              "British National Overseas       1\n",
              "France                          1\n",
              "Poland                          1\n",
              "Denmark                         1\n",
              "Turkey                          1\n",
              "Netherlands                     1\n",
              "Name: Nationality, dtype: int64"
            ]
          },
          "metadata": {},
          "execution_count": 25
        }
      ]
    },
    {
      "cell_type": "code",
      "source": [
        "newdata['Year of Study'].value_counts()"
      ],
      "metadata": {
        "colab": {
          "base_uri": "https://localhost:8080/"
        },
        "id": "SbAx1UoCVF6W",
        "outputId": "e6714bae-7397-4980-a337-c78c45f25770"
      },
      "execution_count": null,
      "outputs": [
        {
          "output_type": "execute_result",
          "data": {
            "text/plain": [
              "1    1018\n",
              "2     819\n",
              "3     635\n",
              "4     465\n",
              "5      21\n",
              "Name: Year of Study, dtype: int64"
            ]
          },
          "metadata": {},
          "execution_count": 26
        }
      ]
    },
    {
      "cell_type": "code",
      "source": [
        "newdata['Year of Study'].value_counts().plot.pie(autopct='%.2f',figsize=(8,6),fontsize=12)\n",
        "plt.title('Year Of Study',fontsize=16)"
      ],
      "metadata": {
        "colab": {
          "base_uri": "https://localhost:8080/",
          "height": 540
        },
        "id": "MVlBVGWzVT_b",
        "outputId": "37082067-68ad-4889-cb53-8f07a09bfc54"
      },
      "execution_count": null,
      "outputs": [
        {
          "output_type": "execute_result",
          "data": {
            "text/plain": [
              "Text(0.5, 1.0, 'Year Of Study')"
            ]
          },
          "metadata": {},
          "execution_count": 27
        },
        {
          "output_type": "display_data",
          "data": {
            "text/plain": [
              "<Figure size 800x600 with 1 Axes>"
            ],
            "image/png": "[encoded data removed]"
          },
          "metadata": {}
        }
      ]
    },
    {
      "cell_type": "code",
      "source": [
        "newdata['Primary Programme'].value_counts()"
      ],
      "metadata": {
        "colab": {
          "base_uri": "https://localhost:8080/"
        },
        "id": "MLo0IJckVWaC",
        "outputId": "35520210-a9f4-46a4-e4e7-368015eeb77f"
      },
      "execution_count": null,
      "outputs": [
        {
          "output_type": "execute_result",
          "data": {
            "text/plain": [
              "Bachelor of Arts              609\n",
              "Bachelor of Engineering       511\n",
              "Bachelor of Science           482\n",
              "Bachelor of Business Admin    307\n",
              "Bachelor of Science (SDE)     132\n",
              "                             ... \n",
              "Doctor of Philosophy (SPP)      1\n",
              "Doctor of Philosophy (SDE)      1\n",
              "Master of Urban Planning        1\n",
              "Doctor of Philosophy (BDG)      1\n",
              "Master of Arts                  1\n",
              "Name: Primary Programme, Length: 68, dtype: int64"
            ]
          },
          "metadata": {},
          "execution_count": 28
        }
      ]
    },
    {
      "cell_type": "code",
      "source": [
        "newdata['Gender'].value_counts()"
      ],
      "metadata": {
        "colab": {
          "base_uri": "https://localhost:8080/"
        },
        "id": "7QuULrAzVcCb",
        "outputId": "f5e31778-38db-4032-ee6e-56a31b62b5cd"
      },
      "execution_count": null,
      "outputs": [
        {
          "output_type": "execute_result",
          "data": {
            "text/plain": [
              "0    1899\n",
              "1    1059\n",
              "Name: Gender, dtype: int64"
            ]
          },
          "metadata": {},
          "execution_count": 29
        }
      ]
    },
    {
      "cell_type": "code",
      "source": [
        "newdata['Gender'].value_counts().plot.pie(autopct='%.2f',figsize=(8,6),fontsize=12)\n",
        "plt.title('Gender',fontsize=16)"
      ],
      "metadata": {
        "colab": {
          "base_uri": "https://localhost:8080/",
          "height": 540
        },
        "id": "db961yf9Vdpv",
        "outputId": "b76b6bb1-bafc-49c0-9d7c-8938b396dbaf"
      },
      "execution_count": null,
      "outputs": [
        {
          "output_type": "execute_result",
          "data": {
            "text/plain": [
              "Text(0.5, 1.0, 'Gender')"
            ]
          },
          "metadata": {},
          "execution_count": 30
        },
        {
          "output_type": "display_data",
          "data": {
            "text/plain": [
              "<Figure size 800x600 with 1 Axes>"
            ],
            "image/png": "[encoded data removed]"
          },
          "metadata": {}
        }
      ]
    },
    {
      "cell_type": "code",
      "source": [
        "newdata['Department'].value_counts()"
      ],
      "metadata": {
        "colab": {
          "base_uri": "https://localhost:8080/"
        },
        "id": "7hnGwW24VsNh",
        "outputId": "add17de6-0172-4f2f-ecc9-5f1c3af1fea7"
      },
      "execution_count": null,
      "outputs": [
        {
          "output_type": "execute_result",
          "data": {
            "text/plain": [
              "School of Arts & Social Science           743\n",
              "School of Science                         661\n",
              "School of Engineering                     562\n",
              "School of Business School                 318\n",
              "School of Design & Environment            171\n",
              "School of Computing                       138\n",
              "School of Medicine1                       126\n",
              "School of Law                              53\n",
              "School of Exchange Students                46\n",
              "School of Multi Disciplinary Programme     31\n",
              "School of Foreign College                  30\n",
              "School of Systems Science                  19\n",
              "School of International Science            16\n",
              "School of Dentistry                        14\n",
              "School of Medicine2                        10\n",
              "School of Conservatory of Music             6\n",
              "School of Public Policy                     6\n",
              "School of Public Health                     3\n",
              "School of Cont & Lifelong Edun              3\n",
              "School of Defence System                    1\n",
              "School of Risk Management                   1\n",
              "Name: Department, dtype: int64"
            ]
          },
          "metadata": {},
          "execution_count": 31
        }
      ]
    },
    {
      "cell_type": "code",
      "source": [
        "count1=newdata['Nationality'].value_counts()\n",
        "plt.figure(figsize=(15,6))\n",
        "sns.barplot(x=count1.index, y=count1.values, alpha=0.8)\n",
        "plt.title('Nationality', fontsize=20)\n",
        "plt.ylabel('Number of Persons', fontsize=15)\n",
        "plt.xlabel('Nations', fontsize=15)\n",
        "plt.xticks(rotation=90)\n",
        "plt.show()"
      ],
      "metadata": {
        "colab": {
          "base_uri": "https://localhost:8080/",
          "height": 686
        },
        "id": "JrY0yIBBa50d",
        "outputId": "65aed668-d495-42a3-e63f-57c300db6251"
      },
      "execution_count": null,
      "outputs": [
        {
          "output_type": "display_data",
          "data": {
            "text/plain": [
              "<Figure size 1500x600 with 1 Axes>"
            ],
            "image/png": "[encoded data removed]"
          },
          "metadata": {}
        }
      ]
    },
    {
      "cell_type": "markdown",
      "source": [
        "**Visualizations for Survey Questions:**"
      ],
      "metadata": {
        "id": "EJhftq72WBx3"
      }
    },
    {
      "cell_type": "code",
      "source": [
        "count1=newdata['Q1-How many events have you Volunteered in ?'].value_counts()\n",
        "plt.figure(figsize=(15,6))\n",
        "sns.barplot(x=count1.index, y=count1.values, alpha=0.8)\n",
        "plt.title('How many events have you Volunteered in ?', fontsize=20)\n",
        "plt.ylabel('Number of Persons', fontsize=15)\n",
        "plt.xlabel('Responses', fontsize=15)\n",
        "plt.show()"
      ],
      "metadata": {
        "id": "Q_fOkRC0b4QU"
      },
      "execution_count": null,
      "outputs": []
    },
    {
      "cell_type": "code",
      "source": [
        "count1=newdata['Q2-How many events have you Participated in ?'].value_counts()\n",
        "plt.figure(figsize=(15,6))\n",
        "sns.barplot(x=count1.index, y=count1.values, alpha=0.8)\n",
        "plt.title('How many events have you Participated in ?', fontsize=20)\n",
        "plt.ylabel('Number of Persons', fontsize=15)\n",
        "plt.xlabel('Responses', fontsize=15)\n",
        "plt.show()\n",
        ""
      ],
      "metadata": {
        "id": "DStmkUZUb7fW"
      },
      "execution_count": null,
      "outputs": []
    },
    {
      "cell_type": "code",
      "source": [
        "count1=newdata['Q3-How many activities are you Interested in ?'].value_counts()\n",
        "plt.figure(figsize=(15,6))\n",
        "sns.barplot(x=count1.index, y=count1.values, alpha=0.8)\n",
        "plt.title('How many activities are you Interested in ?', fontsize=20)\n",
        "plt.ylabel('Number of Persons', fontsize=15)\n",
        "plt.xlabel('Responses', fontsize=15)\n",
        "plt.show()"
      ],
      "metadata": {
        "id": "DX8nuEK1cCmX"
      },
      "execution_count": null,
      "outputs": []
    },
    {
      "cell_type": "code",
      "source": [
        "count1=newdata['Q4-How many activities are you Passionate about ?'].value_counts()\n",
        "plt.figure(figsize=(15,6))\n",
        "sns.barplot(x=count1.index, y=count1.values, alpha=0.8)\n",
        "plt.title('How many activities are you Passionate about ?', fontsize=20)\n",
        "plt.ylabel('Number of Persons', fontsize=15)\n",
        "plt.xlabel('Responses', fontsize=15)\n",
        "plt.show()"
      ],
      "metadata": {
        "id": "ZqiKJdXDcGOF"
      },
      "execution_count": null,
      "outputs": []
    },
    {
      "cell_type": "code",
      "source": [
        "count1=newdata['Q6-How Satisfied You are with your Student Life ?'].value_counts()\n",
        "plt.figure(figsize=(15,6))\n",
        "sns.barplot(x=count1.index, y=count1.values, alpha=0.8)\n",
        "plt.title('How Satisfied You are with your Student Life ?', fontsize=20)\n",
        "plt.ylabel('Number of Persons', fontsize=15)\n",
        "plt.xlabel('Responses', fontsize=15)\n",
        "plt.show()"
      ],
      "metadata": {
        "id": "ZJwqiru7cH9z"
      },
      "execution_count": null,
      "outputs": []
    },
    {
      "cell_type": "code",
      "source": [
        "count1=newdata['Q7-How much effort do you make to interact with others ?'].value_counts()\n",
        "plt.figure(figsize=(15,6))\n",
        "sns.barplot(x=count1.index, y=count1.values, alpha=0.8)\n",
        "plt.title('How much effort do you make to interact with others ?', fontsize=20)\n",
        "plt.ylabel('Number of Persons', fontsize=15)\n",
        "plt.xlabel('Responses', fontsize=15)\n",
        "plt.show()"
      ],
      "metadata": {
        "id": "CBSuSvnjcJib"
      },
      "execution_count": null,
      "outputs": []
    },
    {
      "cell_type": "code",
      "source": [
        "count1=newdata['Q8-About How events are you aware about ?'].value_counts()\n",
        "plt.figure(figsize=(15,6))\n",
        "sns.barplot(x=count1.index, y=count1.values, alpha=0.8)\n",
        "plt.title('About How events are you aware about ?', fontsize=20)\n",
        "plt.ylabel('Number of Persons', fontsize=15)\n",
        "plt.xlabel('Responses', fontsize=15)\n",
        "plt.show()\n",
        ""
      ],
      "metadata": {
        "id": "XX1reqrkcLrv"
      },
      "execution_count": null,
      "outputs": []
    },
    {
      "cell_type": "markdown",
      "source": [
        "**Data Training**"
      ],
      "metadata": {
        "id": "XNon5Pr6HqvS"
      }
    },
    {
      "cell_type": "code",
      "source": [
        "newdata.columns"
      ],
      "metadata": {
        "colab": {
          "base_uri": "https://localhost:8080/"
        },
        "id": "bHQQSd-eHLN2",
        "outputId": "f04f6c01-0c9f-47a8-b211-ef97255fc5a9"
      },
      "execution_count": null,
      "outputs": [
        {
          "output_type": "execute_result",
          "data": {
            "text/plain": [
              "Index(['Career', 'Citizenship', 'Nationality', 'Year of Study',\n",
              "       'Primary Programme', 'Gender', 'Department', 'Housing Type',\n",
              "       'Q1-How many events have you Volunteered in ?',\n",
              "       'Q2-How many events have you Participated in ?',\n",
              "       'Q3-How many activities are you Interested in ?',\n",
              "       'Q4-How many activities are you Passionate about ?',\n",
              "       'Q5-What are your levels of stress ?',\n",
              "       'Q6-How Satisfied You are with your Student Life ?',\n",
              "       'Q7-How much effort do you make to interact with others ?',\n",
              "       'Q8-About How events are you aware about ?'],\n",
              "      dtype='object')"
            ]
          },
          "metadata": {},
          "execution_count": 68
        }
      ]
    },
    {
      "cell_type": "code",
      "source": [
        "prepareddata=newdata.drop(['Career', 'Nationality', 'Year of Study','Primary Programme','Department', 'Housing Type'],axis=1)"
      ],
      "metadata": {
        "id": "FlAOUWBaHOo2"
      },
      "execution_count": null,
      "outputs": []
    },
    {
      "cell_type": "code",
      "source": [
        "prepareddata.columns"
      ],
      "metadata": {
        "colab": {
          "base_uri": "https://localhost:8080/"
        },
        "id": "WMnd0xK3Iomj",
        "outputId": "b5b7f5bc-283f-4550-be99-f4b54a12496a"
      },
      "execution_count": null,
      "outputs": [
        {
          "output_type": "execute_result",
          "data": {
            "text/plain": [
              "Index(['Citizenship', 'Gender', 'Q1-How many events have you Volunteered in ?',\n",
              "       'Q2-How many events have you Participated in ?',\n",
              "       'Q3-How many activities are you Interested in ?',\n",
              "       'Q4-How many activities are you Passionate about ?',\n",
              "       'Q5-What are your levels of stress ?',\n",
              "       'Q6-How Satisfied You are with your Student Life ?',\n",
              "       'Q7-How much effort do you make to interact with others ?',\n",
              "       'Q8-About How events are you aware about ?'],\n",
              "      dtype='object')"
            ]
          },
          "metadata": {},
          "execution_count": 70
        }
      ]
    },
    {
      "cell_type": "code",
      "source": [
        "# Import train_test_split from sklearn.model_selection\n",
        "from sklearn.model_selection import train_test_split\n",
        "# Here, X is the data which will have features and y will have our target i.e. stress level.\n",
        "x=prepareddata[['Citizenship', 'Gender', 'Q1-How many events have you Volunteered in ?',\n",
        "       'Q2-How many events have you Participated in ?',\n",
        "       'Q3-How many activities are you Interested in ?',\n",
        "       'Q4-How many activities are you Passionate about ?','Q6-How Satisfied You are with your Student Life ?',\n",
        "       'Q7-How much effort do you make to interact with others ?',\n",
        "       'Q8-About How events are you aware about ?']]\n",
        "y=prepareddata['Q5-What are your levels of stress ?']"
      ],
      "metadata": {
        "id": "vmQEaHcYIsRW"
      },
      "execution_count": null,
      "outputs": []
    },
    {
      "cell_type": "code",
      "source": [
        "# Split data into training data and testing data\n",
        "x_train, x_test, y_train, y_test = train_test_split(x, y, test_size=0.3,random_state=500)\n",
        "#Ratio used for splitting training and testing data is 7:3 respectively."
      ],
      "metadata": {
        "id": "xzzX9T7QIu1G"
      },
      "execution_count": null,
      "outputs": []
    },
    {
      "cell_type": "code",
      "source": [
        "#to view length of training data.\n",
        "len(x_train)"
      ],
      "metadata": {
        "colab": {
          "base_uri": "https://localhost:8080/"
        },
        "id": "MKoHk3j3I3dJ",
        "outputId": "96c4d960-f2d1-41cf-e51b-3ff017cbfdfa"
      },
      "execution_count": null,
      "outputs": [
        {
          "output_type": "execute_result",
          "data": {
            "text/plain": [
              "2070"
            ]
          },
          "metadata": {},
          "execution_count": 73
        }
      ]
    },
    {
      "cell_type": "code",
      "source": [
        "#to view length of testing data.\n",
        "len(x_test)"
      ],
      "metadata": {
        "colab": {
          "base_uri": "https://localhost:8080/"
        },
        "id": "eg53CZnGI671",
        "outputId": "563b071e-5def-40d4-f20f-cfcf64b602cc"
      },
      "execution_count": null,
      "outputs": [
        {
          "output_type": "execute_result",
          "data": {
            "text/plain": [
              "888"
            ]
          },
          "metadata": {},
          "execution_count": 74
        }
      ]
    },
    {
      "cell_type": "markdown",
      "source": [
        "**Model Creation**"
      ],
      "metadata": {
        "id": "njf4kcpFH-kS"
      }
    },
    {
      "cell_type": "markdown",
      "source": [
        "**Random Forest Regressor**"
      ],
      "metadata": {
        "id": "oTaDd1M7I-ey"
      }
    },
    {
      "cell_type": "code",
      "source": [
        "from sklearn.ensemble import RandomForestClassifier\n",
        "from sklearn.model_selection import train_test_split"
      ],
      "metadata": {
        "id": "lU-UuyI7JFsa"
      },
      "execution_count": null,
      "outputs": []
    },
    {
      "cell_type": "code",
      "source": [
        "# Split data into training data and testing data\n",
        "x_train, x_test, y_train, y_test = train_test_split(x, y, test_size=0.3,random_state=500)\n",
        "#Ratio used for splitting training and testing data is 7:3 respectively."
      ],
      "metadata": {
        "id": "-EF1QOWNoaay"
      },
      "execution_count": null,
      "outputs": []
    },
    {
      "cell_type": "code",
      "source": [
        "#Importing random forest regressor\n",
        "from sklearn.ensemble import RandomForestRegressor\n",
        "reg2 = RandomForestRegressor(n_estimators=100)"
      ],
      "metadata": {
        "id": "lBeEBAeWJHBz"
      },
      "execution_count": null,
      "outputs": []
    },
    {
      "cell_type": "code",
      "source": [
        "# Fitting data into the model.\n",
        "reg2.fit(x_train, y_train)"
      ],
      "metadata": {
        "colab": {
          "base_uri": "https://localhost:8080/",
          "height": 74
        },
        "id": "30xIoT1JJG2k",
        "outputId": "387c28c6-d8f2-45f8-9867-772e503b9f79"
      },
      "execution_count": null,
      "outputs": [
        {
          "output_type": "execute_result",
          "data": {
            "text/plain": [
              "RandomForestRegressor()"
            ],
            "text/html": [
              "<style>#sk-container-id-1 {color: black;background-color: white;}#sk-container-id-1 pre{padding: 0;}#sk-container-id-1 div.sk-toggleable {background-color: white;}#sk-container-id-1 label.sk-toggleable__label {cursor: pointer;display: block;width: 100%;margin-bottom: 0;padding: 0.3em;box-sizing: border-box;text-align: center;}#sk-container-id-1 label.sk-toggleable__label-arrow:before {content: \"▸\";float: left;margin-right: 0.25em;color: #696969;}#sk-container-id-1 label.sk-toggleable__label-arrow:hover:before {color: black;}#sk-container-id-1 div.sk-estimator:hover label.sk-toggleable__label-arrow:before {color: black;}#sk-container-id-1 div.sk-toggleable__content {max-height: 0;max-width: 0;overflow: hidden;text-align: left;background-color: #f0f8ff;}#sk-container-id-1 div.sk-toggleable__content pre {margin: 0.2em;color: black;border-radius: 0.25em;background-color: #f0f8ff;}#sk-container-id-1 input.sk-toggleable__control:checked~div.sk-toggleable__content {max-height: 200px;max-width: 100%;overflow: auto;}#sk-container-id-1 input.sk-toggleable__control:checked~label.sk-toggleable__label-arrow:before {content: \"▾\";}#sk-container-id-1 div.sk-estimator input.sk-toggleable__control:checked~label.sk-toggleable__label {background-color: #d4ebff;}#sk-container-id-1 div.sk-label input.sk-toggleable__control:checked~label.sk-toggleable__label {background-color: #d4ebff;}#sk-container-id-1 input.sk-hidden--visually {border: 0;clip: rect(1px 1px 1px 1px);clip: rect(1px, 1px, 1px, 1px);height: 1px;margin: -1px;overflow: hidden;padding: 0;position: absolute;width: 1px;}#sk-container-id-1 div.sk-estimator {font-family: monospace;background-color: #f0f8ff;border: 1px dotted black;border-radius: 0.25em;box-sizing: border-box;margin-bottom: 0.5em;}#sk-container-id-1 div.sk-estimator:hover {background-color: #d4ebff;}#sk-container-id-1 div.sk-parallel-item::after {content: \"\";width: 100%;border-bottom: 1px solid gray;flex-grow: 1;}#sk-container-id-1 div.sk-label:hover label.sk-toggleable__label {background-color: #d4ebff;}#sk-container-id-1 div.sk-serial::before {content: \"\";position: absolute;border-left: 1px solid gray;box-sizing: border-box;top: 0;bottom: 0;left: 50%;z-index: 0;}#sk-container-id-1 div.sk-serial {display: flex;flex-direction: column;align-items: center;background-color: white;padding-right: 0.2em;padding-left: 0.2em;position: relative;}#sk-container-id-1 div.sk-item {position: relative;z-index: 1;}#sk-container-id-1 div.sk-parallel {display: flex;align-items: stretch;justify-content: center;background-color: white;position: relative;}#sk-container-id-1 div.sk-item::before, #sk-container-id-1 div.sk-parallel-item::before {content: \"\";position: absolute;border-left: 1px solid gray;box-sizing: border-box;top: 0;bottom: 0;left: 50%;z-index: -1;}#sk-container-id-1 div.sk-parallel-item {display: flex;flex-direction: column;z-index: 1;position: relative;background-color: white;}#sk-container-id-1 div.sk-parallel-item:first-child::after {align-self: flex-end;width: 50%;}#sk-container-id-1 div.sk-parallel-item:last-child::after {align-self: flex-start;width: 50%;}#sk-container-id-1 div.sk-parallel-item:only-child::after {width: 0;}#sk-container-id-1 div.sk-dashed-wrapped {border: 1px dashed gray;margin: 0 0.4em 0.5em 0.4em;box-sizing: border-box;padding-bottom: 0.4em;background-color: white;}#sk-container-id-1 div.sk-label label {font-family: monospace;font-weight: bold;display: inline-block;line-height: 1.2em;}#sk-container-id-1 div.sk-label-container {text-align: center;}#sk-container-id-1 div.sk-container {/* jupyter's `normalize.less` sets `[hidden] { display: none; }` but bootstrap.min.css set `[hidden] { display: none !important; }` so we also need the `!important` here to be able to override the default hidden behavior on the sphinx rendered scikit-learn.org. See: https://github.com/scikit-learn/scikit-learn/issues/21755 */display: inline-block !important;position: relative;}#sk-container-id-1 div.sk-text-repr-fallback {display: none;}</style><div id=\"sk-container-id-1\" class=\"sk-top-container\"><div class=\"sk-text-repr-fallback\"><pre>RandomForestRegressor()</pre><b>In a Jupyter environment, please rerun this cell to show the HTML representation or trust the notebook. <br />On GitHub, the HTML representation is unable to render, please try loading this page with nbviewer.org.</b></div><div class=\"sk-container\" hidden><div class=\"sk-item\"><div class=\"sk-estimator sk-toggleable\"><input class=\"sk-toggleable__control sk-hidden--visually\" id=\"sk-estimator-id-1\" type=\"checkbox\" checked><label for=\"sk-estimator-id-1\" class=\"sk-toggleable__label sk-toggleable__label-arrow\">RandomForestRegressor</label><div class=\"sk-toggleable__content\"><pre>RandomForestRegressor()</pre></div></div></div></div></div>"
            ]
          },
          "metadata": {},
          "execution_count": 79
        }
      ]
    },
    {
      "cell_type": "code",
      "source": [
        "#making predictions.\n",
        "pred2 = reg2.predict(x_test)"
      ],
      "metadata": {
        "id": "dkGHE4hLJGzD"
      },
      "execution_count": null,
      "outputs": []
    },
    {
      "cell_type": "code",
      "source": [
        "pred2"
      ],
      "metadata": {
        "id": "xYH3rvRTJGrq",
        "colab": {
          "base_uri": "https://localhost:8080/"
        },
        "outputId": "36bab805-46d8-4736-9405-016850359c13"
      },
      "execution_count": null,
      "outputs": [
        {
          "output_type": "execute_result",
          "data": {
            "text/plain": [
              "array([3.36083333, 2.50354762, 3.15666667, 1.96333333, 1.08842857,\n",
              "       2.72833333, 4.59      , 4.58144048, 3.00366667, 4.105     ,\n",
              "       4.42466667, 2.08833333, 2.39      , 2.78258333, 1.49166667,\n",
              "       3.35416667, 3.1575    , 3.90904762, 1.60485714, 3.15666667,\n",
              "       2.75272222, 2.33      , 3.54421429, 2.11916667, 3.30788095,\n",
              "       2.18064286, 3.641     , 4.06116667, 2.80491071, 2.58895679,\n",
              "       4.48      , 1.36      , 2.74      , 2.3381627 , 3.36733333,\n",
              "       2.80491071, 4.9777535 , 2.58895679, 3.56666667, 3.672     ,\n",
              "       2.39333333, 2.555     , 1.85133333, 4.02      , 3.17635714,\n",
              "       1.73066667, 2.47      , 4.09      , 3.15866667, 3.17268651,\n",
              "       3.38666667, 3.9725    , 2.17      , 4.40357143, 2.51      ,\n",
              "       2.845     , 3.83      , 3.492     , 1.7867619 , 1.65438636,\n",
              "       3.48      , 3.13      , 4.8425    , 4.66283333, 2.75666667,\n",
              "       2.39058694, 3.00357631, 3.78340476, 4.17259524, 3.67833333,\n",
              "       3.48816667, 4.25      , 1.9262619 , 2.6162381 , 2.043     ,\n",
              "       1.654     , 4.58      , 3.57133333, 2.53197619, 2.87166667,\n",
              "       2.85332143, 3.25783333, 4.14      , 3.97      , 2.545     ,\n",
              "       3.48      , 4.42708333, 2.30333333, 2.68      , 2.043     ,\n",
              "       2.12274603, 2.20533333, 3.86671429, 1.7740303 , 2.60628968,\n",
              "       1.93708333, 2.58895679, 3.00366667, 2.52694444, 3.798     ,\n",
              "       2.84695238, 2.20203175, 4.01      , 3.71      , 2.87233333,\n",
              "       3.1195    , 2.57      , 3.21635714, 5.76483333, 3.7345    ,\n",
              "       5.69166667, 2.9365    , 6.245     , 1.69905273, 4.42133333,\n",
              "       3.66      , 4.62609524, 2.03275   , 1.33467857, 3.14583333,\n",
              "       3.49716667, 3.882     , 3.44046429, 3.51566667, 4.04008225,\n",
              "       3.405     , 2.36616667, 3.01666667, 4.15166667, 3.72      ,\n",
              "       2.20203175, 1.42322619, 3.2625    , 2.968     , 2.93225794,\n",
              "       2.4       , 2.7775    , 2.26321429, 5.04      , 2.20203175,\n",
              "       3.87      , 4.50333333, 2.54218146, 2.68      , 2.88      ,\n",
              "       4.1175    , 2.26916667, 3.3685    , 3.30366667, 2.26766667,\n",
              "       4.09395238, 3.11      , 3.9225    , 2.735     , 3.22716667,\n",
              "       6.2       , 4.34366667, 3.94428571, 3.03297619, 1.965     ,\n",
              "       3.625     , 2.83948701, 2.52      , 3.29283333, 3.56764286,\n",
              "       3.5375    , 3.83733333, 2.0664881 , 4.69397294, 3.89666667,\n",
              "       2.56666667, 2.84333333, 3.46      , 3.22924315, 3.08537662,\n",
              "       1.96333333, 1.09585714, 3.81566667, 4.77833333, 2.4111746 ,\n",
              "       2.4       , 4.31      , 4.42333333, 3.5       , 2.51666667,\n",
              "       3.8525    , 2.4985119 , 1.31739683, 3.65166667, 3.92314286,\n",
              "       2.9047619 , 4.893     , 3.135     , 3.0687619 , 2.865     ,\n",
              "       3.326     , 4.06833333, 3.36733333, 5.48      , 3.51333333,\n",
              "       3.08184699, 4.13666667, 2.74333333, 3.80166667, 3.52      ,\n",
              "       3.62166667, 2.12274603, 2.005     , 3.81767978, 2.92219048,\n",
              "       4.38470635, 1.24153571, 3.27716667, 5.36      , 2.04177778,\n",
              "       1.61      , 3.08      , 2.82483333, 1.7740303 , 3.21366667,\n",
              "       2.48421429, 3.54      , 4.32266667, 3.33380952, 1.35      ,\n",
              "       3.88833333, 2.118     , 3.88      , 2.9       , 3.86671429,\n",
              "       3.01      , 2.9605    , 2.87966667, 3.36733333, 3.08537662,\n",
              "       2.08733333, 1.933     , 2.15833333, 3.95      , 3.1       ,\n",
              "       4.18      , 3.56      , 4.16666667, 1.24153571, 2.49433333,\n",
              "       1.96333333, 5.08      , 2.82      , 1.23415476, 2.327     ,\n",
              "       3.25333333, 3.98      , 2.66091667, 1.714     , 2.58895679,\n",
              "       3.7       , 2.54      , 1.62      , 2.58895679, 1.6775    ,\n",
              "       2.6845    , 1.4925    , 2.19337374, 4.99883333, 3.49599206,\n",
              "       2.17409524, 2.87228571, 2.89166667, 3.54233333, 2.69811508,\n",
              "       4.5625    , 2.82333333, 5.77333333, 4.61297619, 2.17647864,\n",
              "       3.34166667, 3.0925    , 2.47      , 2.21671429, 2.56011111,\n",
              "       3.915     , 4.218     , 4.32266667, 3.2       , 1.895     ,\n",
              "       3.5552381 , 3.47441667, 3.537     , 3.58783333, 2.27      ,\n",
              "       4.85678571, 4.22      , 2.11704762, 4.06      , 3.73416667,\n",
              "       3.22794048, 2.115     , 2.08      , 2.38242063, 2.86      ,\n",
              "       2.72666667, 1.7       , 1.85216667, 4.18857143, 1.89904762,\n",
              "       3.55516667, 2.43208333, 3.16333333, 4.42      , 4.0725    ,\n",
              "       2.93333333, 3.22924315, 1.54583333, 4.28097619, 2.91909524,\n",
              "       5.29      , 3.01266667, 3.18708333, 3.49916667, 1.24153571,\n",
              "       2.1495    , 1.54619048, 3.7345    , 2.69811508, 2.9647096 ,\n",
              "       3.024     , 2.12274603, 2.71130952, 2.83625   , 3.49333333,\n",
              "       3.09933333, 2.29333333, 4.75866667, 1.30633333, 3.36133333,\n",
              "       3.93      , 4.42      , 3.118     , 2.41924242, 3.827     ,\n",
              "       2.69666667, 4.35      , 3.09833333, 3.56      , 4.29      ,\n",
              "       4.44009524, 2.72730952, 2.20203175, 2.76966667, 1.93445238,\n",
              "       3.98833333, 3.05908333, 4.13      , 3.12      , 2.30447619,\n",
              "       2.89934169, 3.5       , 1.809     , 1.07066667, 4.465     ,\n",
              "       2.6125    , 1.69905273, 2.498     , 1.51012049, 3.95233333,\n",
              "       3.5       , 2.9125    , 3.72030952, 3.95      , 2.17647864,\n",
              "       2.73      , 2.09595238, 3.5       , 3.28733333, 2.79316667,\n",
              "       2.93179762, 2.25066667, 4.11      , 3.78419048, 2.09388095,\n",
              "       2.56309524, 1.37227381, 3.13958333, 3.238     , 2.22333333,\n",
              "       3.12      , 2.6762969 , 2.68438095, 2.52766667, 2.89143486,\n",
              "       1.93445238, 3.82297619, 3.355     , 2.12602381, 2.75920191,\n",
              "       3.275     , 2.39683333, 4.16863095, 3.72001515, 2.25083333,\n",
              "       2.53070635, 2.59016667, 2.23665873, 1.8       , 2.16      ,\n",
              "       3.48380014, 1.95916667, 2.328     , 3.09      , 1.58862121,\n",
              "       4.13428571, 2.35966667, 3.21366667, 4.34      , 3.18      ,\n",
              "       1.99466667, 1.77119048, 2.63128272, 3.157     , 2.56666667,\n",
              "       4.07      , 3.06904762, 2.65      , 2.18827381, 1.849     ,\n",
              "       2.73866667, 2.6762969 , 2.58895679, 4.42828571, 3.342     ,\n",
              "       2.514     , 3.005     , 3.0025    , 2.27792857, 4.21488095,\n",
              "       2.44666667, 4.03333333, 1.93445238, 3.577     , 3.04      ,\n",
              "       2.04177778, 3.15866667, 3.62      , 2.26766667, 4.16863095,\n",
              "       3.10659524, 3.08184699, 1.78704762, 2.04466667, 2.23583333,\n",
              "       3.01      , 2.68133333, 1.37227381, 2.92219048, 1.01      ,\n",
              "       3.53118182, 1.69905273, 4.47125   , 2.91579762, 2.05457143,\n",
              "       3.72166667, 3.7325    , 3.72030952, 4.65434848, 2.73866667,\n",
              "       3.86      , 4.05      , 4.17792857, 1.78779113, 2.22      ,\n",
              "       2.87166667, 2.67440476, 2.7925    , 1.58333333, 2.56822908,\n",
              "       4.325     , 2.37421429, 2.31208333, 2.01821429, 2.3       ,\n",
              "       4.21733333, 1.50411905, 4.1925    , 3.93666667, 3.5575    ,\n",
              "       2.58895679, 1.91433333, 3.75116667, 5.12      , 2.87166667,\n",
              "       4.385     , 1.51465476, 2.37      , 3.31      , 3.69966667,\n",
              "       2.66583333, 3.98438095, 3.14166667, 2.26333333, 2.75      ,\n",
              "       2.01821429, 3.66      , 2.56      , 2.89143486, 3.48083333,\n",
              "       1.09895238, 3.557     , 2.515     , 2.58895679, 3.84      ,\n",
              "       3.07      , 2.34895238, 4.21666667, 3.28      , 3.04      ,\n",
              "       2.15816667, 1.96333333, 3.40183333, 2.11090693, 4.2       ,\n",
              "       3.5       , 6.38      , 3.24      , 2.66683333, 2.62498413,\n",
              "       1.61415476, 2.17933333, 3.18964286, 3.2655    , 3.6115    ,\n",
              "       2.635     , 4.0185    , 2.9765    , 2.63128272, 2.16      ,\n",
              "       3.8405    , 2.47      , 4.22      , 2.66583333, 3.08537662,\n",
              "       2.99066667, 2.45116667, 3.86833333, 4.57311905, 2.61333333,\n",
              "       3.82666667, 3.22794048, 5.07      , 3.95233333, 4.12416667,\n",
              "       4.86433333, 2.979     , 4.995     , 3.00833333, 2.215     ,\n",
              "       2.9625    , 2.09595238, 2.72933333, 1.42733333, 4.        ,\n",
              "       1.83      , 1.46966667, 3.67866667, 2.42156061, 2.39058694,\n",
              "       4.0495    , 2.96220635, 2.69811508, 2.5       , 3.16      ,\n",
              "       1.97766667, 1.49166667, 2.30290476, 2.11216667, 4.232     ,\n",
              "       2.979     , 3.28733333, 2.09595238, 2.93866667, 3.21916667,\n",
              "       3.76333333, 3.00366667, 4.51      , 2.4925    , 3.584     ,\n",
              "       1.96333333, 5.18833333, 4.145     , 3.71      , 3.69      ,\n",
              "       2.67      , 3.34283333, 3.90904762, 5.52      , 4.00571429,\n",
              "       1.69905273, 1.36666667, 3.57666667, 3.10659524, 4.42333333,\n",
              "       1.73666667, 5.269     , 3.0707381 , 2.38859524, 2.882     ,\n",
              "       4.16      , 3.30383333, 3.36371429, 2.375     , 2.9535    ,\n",
              "       3.772     , 3.196     , 4.62609524, 4.34288095, 4.34288095,\n",
              "       5.09      , 3.50166667, 3.35      , 4.97133333, 5.1875    ,\n",
              "       3.95883333, 2.91371429, 4.69397294, 2.2911746 , 4.55966667,\n",
              "       3.342     , 3.5345    , 4.72152381, 3.46066667, 4.6       ,\n",
              "       2.90866667, 3.395     , 2.7082381 , 1.74761905, 5.18      ,\n",
              "       2.16642857, 2.916     , 1.531     , 3.63166667, 1.76      ,\n",
              "       5.01      , 2.768     , 4.47666667, 4.19266667, 2.96      ,\n",
              "       4.4947619 , 4.09049206, 4.17666667, 3.47      , 2.71      ,\n",
              "       3.52      , 5.55      , 3.05430952, 1.33467857, 5.21      ,\n",
              "       3.04421771, 3.198     , 4.9675    , 4.39      , 5.57      ,\n",
              "       2.3381627 , 4.31133333, 3.079     , 3.01583333, 1.98666667,\n",
              "       1.99666667, 2.47883333, 2.02630952, 3.875     , 3.19333333,\n",
              "       3.81333333, 1.92463736, 2.79316667, 3.33      , 2.78695238,\n",
              "       4.32940476, 2.25628571, 2.83      , 3.39333333, 3.81333333,\n",
              "       2.62583333, 3.28533333, 3.76666667, 2.608     , 3.39      ,\n",
              "       3.22202381, 3.73      , 4.69397294, 3.92666667, 4.09395238,\n",
              "       2.70316667, 4.32316667, 4.04933333, 3.24357143, 3.322     ,\n",
              "       3.22891667, 2.9675    , 1.72      , 3.78419048, 3.58283333,\n",
              "       2.83948701, 1.24153571, 3.34233333, 2.9525    , 3.98      ,\n",
              "       4.36333333, 3.36333333, 2.737     , 2.141     , 3.7195    ,\n",
              "       1.24153571, 1.46933333, 3.155     , 2.78695238, 3.46      ,\n",
              "       3.04421771, 3.16316667, 2.77946825, 4.285     , 3.63      ,\n",
              "       4.29      , 1.07066667, 2.54218146, 1.33467857, 4.13716667,\n",
              "       4.564     , 2.93      , 2.55708333, 2.30433333, 4.23      ,\n",
              "       3.08184699, 2.55315476, 3.04715873, 4.28097619, 2.35      ,\n",
              "       3.746     , 1.52416667, 2.44666667, 3.02661905, 2.364     ,\n",
              "       2.87583333, 6.23957143, 3.18      , 1.71516667, 3.        ,\n",
              "       3.827     , 3.98547619, 5.17      , 2.25066667, 3.01604762,\n",
              "       3.73      , 2.73083333, 1.46933333, 3.72      , 3.01      ,\n",
              "       4.1452381 , 3.15166667, 2.09395238, 4.07057143, 3.76666667,\n",
              "       3.96207143, 3.04421771, 2.573     , 4.47166667, 2.11616667,\n",
              "       2.16      , 1.43433333, 2.75833333, 4.69      , 3.89666667,\n",
              "       4.16435714, 3.02866667, 2.43      , 2.80833333, 4.38333333,\n",
              "       2.68233333, 4.06666667, 2.74035714, 4.21      , 2.12      ,\n",
              "       2.09590476, 2.27792857, 2.17647864, 3.864     , 2.62583333,\n",
              "       2.28948485, 4.63      , 1.28583333, 3.0707381 , 2.68738095,\n",
              "       2.7897619 , 3.2263254 , 4.98      , 4.69397294, 3.23357143,\n",
              "       2.0675    , 2.56011111, 3.65166667, 1.91728571, 2.54218146,\n",
              "       1.93      , 2.5852619 , 2.455     , 3.21374026, 2.60443452,\n",
              "       4.275     , 4.28097619, 2.63716667, 1.31739683, 2.665     ,\n",
              "       2.04666667, 2.39183333, 2.20203175, 3.44071429, 2.34333333,\n",
              "       3.13166667, 2.44      , 2.11090693, 3.40833333, 2.82533333,\n",
              "       2.78338095, 1.98666667, 3.01266667, 3.14564286, 2.99333333,\n",
              "       2.40406349, 2.13833333, 3.56703175, 2.21866667, 2.875     ,\n",
              "       6.6695    , 3.78833333, 3.426     , 3.90904762, 3.76666667,\n",
              "       3.64433333, 2.63128272, 3.729     , 2.54218146, 2.13895238,\n",
              "       2.20554762, 2.82333333, 3.33333333, 2.39058694, 4.06166667,\n",
              "       2.58895679, 1.89786905, 4.13883333, 1.93738095, 3.57619048,\n",
              "       2.85584127, 1.95      , 3.515     , 2.29635317, 2.604     ,\n",
              "       2.48452381, 2.89966667, 3.28      , 2.43083333, 3.05908333,\n",
              "       1.7867619 , 1.24153571, 4.33      , 3.36733333, 2.4575    ,\n",
              "       1.8575    , 2.85333333, 1.9       , 2.11      , 3.57666667,\n",
              "       2.5852619 , 2.05466667, 4.1285    , 2.69      , 2.13583333,\n",
              "       3.95883333, 4.37233333, 1.77119048, 3.11      , 4.5       ,\n",
              "       3.69      , 4.59258333, 4.70833333, 2.88207143, 2.75272222,\n",
              "       3.85416667, 3.49      , 2.704     ])"
            ]
          },
          "metadata": {},
          "execution_count": 81
        }
      ]
    },
    {
      "cell_type": "code",
      "source": [
        "print(\"Accuracy of the Random Forest Regressor  model comes to be: \\n \")\n",
        "p=reg2.score(x_train,y_train)\n",
        "print(p)"
      ],
      "metadata": {
        "colab": {
          "base_uri": "https://localhost:8080/"
        },
        "id": "IShlqRx9JGh7",
        "outputId": "e38a7704-0de0-434d-9642-5f6c4c8ea443"
      },
      "execution_count": null,
      "outputs": [
        {
          "output_type": "stream",
          "name": "stdout",
          "text": [
            "Accuracy of the Random Forest Regressor  model comes to be: \n",
            " \n",
            "0.7398122806505594\n"
          ]
        }
      ]
    },
    {
      "cell_type": "markdown",
      "source": [
        "**KNN Algorithm**"
      ],
      "metadata": {
        "id": "xFf_AZUMCwKo"
      }
    },
    {
      "cell_type": "code",
      "source": [
        "from sklearn import preprocessing\n",
        "from sklearn.model_selection import train_test_split\n",
        "from sklearn.neighbors import KNeighborsClassifier\n",
        "import matplotlib.pyplot as plt\n",
        "import seaborn as sns\n",
        "import pandas as pd"
      ],
      "metadata": {
        "id": "cetefsocDc85"
      },
      "execution_count": null,
      "outputs": []
    },
    {
      "cell_type": "code",
      "source": [
        "from sklearn.neighbors import KNeighborsRegressor\n",
        "k = 5 # number of neighbors\n",
        "reg4 = KNeighborsRegressor(n_neighbors=k)\n",
        "reg4.fit(x_train, y_train)"
      ],
      "metadata": {
        "colab": {
          "base_uri": "https://localhost:8080/",
          "height": 74
        },
        "id": "98iU-K3SCy1r",
        "outputId": "d4ade14d-6321-4655-958f-9cb88e571297"
      },
      "execution_count": null,
      "outputs": [
        {
          "output_type": "execute_result",
          "data": {
            "text/plain": [
              "KNeighborsRegressor()"
            ],
            "text/html": [
              "<style>#sk-container-id-2 {color: black;background-color: white;}#sk-container-id-2 pre{padding: 0;}#sk-container-id-2 div.sk-toggleable {background-color: white;}#sk-container-id-2 label.sk-toggleable__label {cursor: pointer;display: block;width: 100%;margin-bottom: 0;padding: 0.3em;box-sizing: border-box;text-align: center;}#sk-container-id-2 label.sk-toggleable__label-arrow:before {content: \"▸\";float: left;margin-right: 0.25em;color: #696969;}#sk-container-id-2 label.sk-toggleable__label-arrow:hover:before {color: black;}#sk-container-id-2 div.sk-estimator:hover label.sk-toggleable__label-arrow:before {color: black;}#sk-container-id-2 div.sk-toggleable__content {max-height: 0;max-width: 0;overflow: hidden;text-align: left;background-color: #f0f8ff;}#sk-container-id-2 div.sk-toggleable__content pre {margin: 0.2em;color: black;border-radius: 0.25em;background-color: #f0f8ff;}#sk-container-id-2 input.sk-toggleable__control:checked~div.sk-toggleable__content {max-height: 200px;max-width: 100%;overflow: auto;}#sk-container-id-2 input.sk-toggleable__control:checked~label.sk-toggleable__label-arrow:before {content: \"▾\";}#sk-container-id-2 div.sk-estimator input.sk-toggleable__control:checked~label.sk-toggleable__label {background-color: #d4ebff;}#sk-container-id-2 div.sk-label input.sk-toggleable__control:checked~label.sk-toggleable__label {background-color: #d4ebff;}#sk-container-id-2 input.sk-hidden--visually {border: 0;clip: rect(1px 1px 1px 1px);clip: rect(1px, 1px, 1px, 1px);height: 1px;margin: -1px;overflow: hidden;padding: 0;position: absolute;width: 1px;}#sk-container-id-2 div.sk-estimator {font-family: monospace;background-color: #f0f8ff;border: 1px dotted black;border-radius: 0.25em;box-sizing: border-box;margin-bottom: 0.5em;}#sk-container-id-2 div.sk-estimator:hover {background-color: #d4ebff;}#sk-container-id-2 div.sk-parallel-item::after {content: \"\";width: 100%;border-bottom: 1px solid gray;flex-grow: 1;}#sk-container-id-2 div.sk-label:hover label.sk-toggleable__label {background-color: #d4ebff;}#sk-container-id-2 div.sk-serial::before {content: \"\";position: absolute;border-left: 1px solid gray;box-sizing: border-box;top: 0;bottom: 0;left: 50%;z-index: 0;}#sk-container-id-2 div.sk-serial {display: flex;flex-direction: column;align-items: center;background-color: white;padding-right: 0.2em;padding-left: 0.2em;position: relative;}#sk-container-id-2 div.sk-item {position: relative;z-index: 1;}#sk-container-id-2 div.sk-parallel {display: flex;align-items: stretch;justify-content: center;background-color: white;position: relative;}#sk-container-id-2 div.sk-item::before, #sk-container-id-2 div.sk-parallel-item::before {content: \"\";position: absolute;border-left: 1px solid gray;box-sizing: border-box;top: 0;bottom: 0;left: 50%;z-index: -1;}#sk-container-id-2 div.sk-parallel-item {display: flex;flex-direction: column;z-index: 1;position: relative;background-color: white;}#sk-container-id-2 div.sk-parallel-item:first-child::after {align-self: flex-end;width: 50%;}#sk-container-id-2 div.sk-parallel-item:last-child::after {align-self: flex-start;width: 50%;}#sk-container-id-2 div.sk-parallel-item:only-child::after {width: 0;}#sk-container-id-2 div.sk-dashed-wrapped {border: 1px dashed gray;margin: 0 0.4em 0.5em 0.4em;box-sizing: border-box;padding-bottom: 0.4em;background-color: white;}#sk-container-id-2 div.sk-label label {font-family: monospace;font-weight: bold;display: inline-block;line-height: 1.2em;}#sk-container-id-2 div.sk-label-container {text-align: center;}#sk-container-id-2 div.sk-container {/* jupyter's `normalize.less` sets `[hidden] { display: none; }` but bootstrap.min.css set `[hidden] { display: none !important; }` so we also need the `!important` here to be able to override the default hidden behavior on the sphinx rendered scikit-learn.org. See: https://github.com/scikit-learn/scikit-learn/issues/21755 */display: inline-block !important;position: relative;}#sk-container-id-2 div.sk-text-repr-fallback {display: none;}</style><div id=\"sk-container-id-2\" class=\"sk-top-container\"><div class=\"sk-text-repr-fallback\"><pre>KNeighborsRegressor()</pre><b>In a Jupyter environment, please rerun this cell to show the HTML representation or trust the notebook. <br />On GitHub, the HTML representation is unable to render, please try loading this page with nbviewer.org.</b></div><div class=\"sk-container\" hidden><div class=\"sk-item\"><div class=\"sk-estimator sk-toggleable\"><input class=\"sk-toggleable__control sk-hidden--visually\" id=\"sk-estimator-id-2\" type=\"checkbox\" checked><label for=\"sk-estimator-id-2\" class=\"sk-toggleable__label sk-toggleable__label-arrow\">KNeighborsRegressor</label><div class=\"sk-toggleable__content\"><pre>KNeighborsRegressor()</pre></div></div></div></div></div>"
            ]
          },
          "metadata": {},
          "execution_count": 84
        }
      ]
    },
    {
      "cell_type": "code",
      "source": [
        "x_train, x_test, y_train, y_test = train_test_split(x,y,test_size=0.3, random_state = 1)\n",
        "knn_clf=KNeighborsClassifier()\n",
        "knn_clf.fit(x_train,y_train)\n",
        "ypred=knn_clf.predict(x_test) #These are the predicted output values"
      ],
      "metadata": {
        "id": "Ug1l5J0QDiwR"
      },
      "execution_count": null,
      "outputs": []
    },
    {
      "cell_type": "code",
      "source": [
        "pred4=reg4.predict(x_test)"
      ],
      "metadata": {
        "id": "C0dNXl7AJxCm"
      },
      "execution_count": null,
      "outputs": []
    },
    {
      "cell_type": "code",
      "source": [
        "pred4"
      ],
      "metadata": {
        "colab": {
          "base_uri": "https://localhost:8080/"
        },
        "id": "p-ZXHfrOcsek",
        "outputId": "da0ab34a-c7c6-44eb-9984-1d172d79dda5"
      },
      "execution_count": null,
      "outputs": [
        {
          "output_type": "execute_result",
          "data": {
            "text/plain": [
              "array([2.8, 3. , 3.4, 2.6, 2.8, 3. , 3.2, 2.2, 2.2, 3.8, 3.8, 3.4, 2.8,\n",
              "       2.8, 2.4, 3.6, 2.6, 3. , 3.4, 1.2, 5.2, 2.2, 3. , 2.8, 4.6, 5. ,\n",
              "       3.6, 2.4, 2. , 2.4, 3.4, 2.6, 2.2, 2.6, 2.4, 2.6, 2.8, 2.6, 2.2,\n",
              "       3. , 2.6, 4.8, 2. , 2.4, 2.4, 3.4, 3.2, 2.8, 2.2, 2.8, 1.6, 2.6,\n",
              "       3. , 2. , 4. , 2.6, 2.4, 3.2, 2.2, 3.8, 4. , 5. , 3. , 3. , 2. ,\n",
              "       4.8, 2.6, 3.2, 2.2, 2. , 2.8, 4. , 3.8, 4.4, 2.2, 4. , 3.8, 3. ,\n",
              "       2.2, 3. , 3.2, 2.4, 3.2, 3.4, 3. , 3.2, 2. , 2.8, 2.6, 4.2, 3.2,\n",
              "       3.2, 2.8, 3.4, 1.2, 3. , 3.2, 2.2, 3.4, 2.6, 4. , 2. , 2.6, 3. ,\n",
              "       3.4, 2.2, 2.6, 2. , 1.6, 2.4, 3.2, 5.6, 2.2, 2.2, 2.6, 2.2, 2.2,\n",
              "       2.4, 3.8, 1.8, 3.6, 2.6, 2.6, 3.2, 2. , 3. , 4.2, 3.2, 2.2, 4.6,\n",
              "       3.4, 1.6, 2.8, 4.2, 2.8, 2.4, 1.4, 3. , 1.4, 3.6, 2.8, 4. , 2.6,\n",
              "       2.8, 2.8, 4.6, 4.2, 3.6, 3.2, 2.2, 3. , 1.8, 4.8, 2.8, 2.6, 2.4,\n",
              "       5. , 4.4, 4.4, 3.8, 3.6, 4. , 3. , 3.6, 2.8, 2.6, 3.8, 1.8, 3.2,\n",
              "       3.6, 4. , 3.2, 2.8, 4.2, 2.6, 3.2, 3. , 1.8, 3.8, 4.6, 3. , 3. ,\n",
              "       2.8, 5.2, 3.4, 2.6, 3.2, 3.8, 4.4, 4.8, 6.2, 2.2, 3. , 2.2, 2.6,\n",
              "       2.2, 3.6, 3.6, 3.8, 2.8, 3.2, 2.8, 3.4, 2.6, 1.8, 2.6, 2.6, 3.2,\n",
              "       1.8, 3. , 2.8, 4.4, 5.6, 4. , 4.6, 4.2, 3.6, 3. , 2.2, 3.4, 3.4,\n",
              "       2.4, 2.8, 3.4, 3.2, 4.8, 1.2, 3.8, 3.2, 4. , 2.2, 4. , 1.2, 2.4,\n",
              "       2.2, 3. , 2.2, 3.8, 3.6, 4.2, 2.4, 3.6, 3.8, 3.8, 3.2, 3. , 2.2,\n",
              "       2.2, 4.2, 2.4, 4.4, 3.6, 3. , 2.6, 3.6, 3.2, 4.4, 2.8, 3.2, 3.8,\n",
              "       2. , 3.4, 4.6, 4.6, 3. , 3.8, 2. , 2.6, 3.6, 3. , 4. , 2.4, 3.2,\n",
              "       3. , 3.2, 2.2, 3.6, 3.4, 4.2, 2.6, 3.8, 3.4, 4. , 2.2, 3.2, 1.6,\n",
              "       5.6, 5. , 2.4, 3.4, 3.2, 3.8, 1.8, 3. , 2.6, 3.2, 3.2, 2.4, 1.8,\n",
              "       2.6, 2.8, 3. , 4. , 1.6, 2.4, 1.6, 3.6, 2.6, 1.8, 2.2, 2.8, 3.4,\n",
              "       2.8, 2.8, 4. , 3. , 4.6, 3.4, 3. , 3.8, 4.4, 2.8, 4.2, 2. , 2.4,\n",
              "       3.2, 3.4, 1.8, 2.8, 2.2, 3.2, 3. , 2.8, 2.2, 2.4, 4.8, 3.6, 3.6,\n",
              "       3.4, 3. , 3. , 3.2, 1.8, 3.2, 2.8, 3.4, 5.2, 3.4, 2.4, 1.2, 4.2,\n",
              "       3.6, 2.6, 3. , 4.6, 3. , 3.8, 2.2, 2. , 2.4, 3.4, 1.2, 2.8, 4.4,\n",
              "       2. , 4.4, 3. , 2. , 4.4, 2. , 3.6, 3.6, 1.8, 5. , 3.2, 3.4, 3.2,\n",
              "       3.4, 4.2, 2.4, 3.8, 1.4, 2.8, 2.2, 2. , 2.6, 2. , 3.8, 3.2, 2.2,\n",
              "       3. , 4.6, 3.2, 3.2, 1.8, 2.6, 2. , 2.2, 2.6, 4. , 1.8, 2.8, 3.4,\n",
              "       2.6, 3.2, 2.4, 3.4, 3.2, 2.6, 2.8, 3.6, 1.4, 3. , 2.8, 3.2, 3. ,\n",
              "       3.6, 2.8, 3.6, 3.4, 2.8, 2.2, 2.2, 3.4, 2.4, 2.2, 1.8, 3.8, 2.4,\n",
              "       3.6, 3.2, 3.4, 3. , 2.6, 5. , 2.4, 2.4, 4. , 2.6, 2.2, 5. , 4.2,\n",
              "       3.2, 2.8, 2.4, 2.2, 3.6, 1.2, 1.6, 3. , 1.8, 3.8, 2.4, 3. , 3.8,\n",
              "       4.2, 4.6, 3.4, 1.6, 2.2, 3.2, 3.8, 4.2, 3. , 1.2, 2.6, 1.6, 3.2,\n",
              "       5.4, 3.2, 2.4, 2. , 4. , 3.4, 2.4, 3.2, 3.4, 2.6, 4.8, 4.2, 1.8,\n",
              "       2.6, 4.8, 3. , 2.6, 3.2, 2.4, 3.2, 3.2, 3.6, 2.8, 2.4, 5.4, 3. ,\n",
              "       1.6, 3. , 4.8, 3. , 2.8, 1.6, 3. , 3.2, 2.6, 3. , 3.8, 2.6, 4.4,\n",
              "       4.2, 4.8, 4.2, 3.2, 2.6, 3.8, 4.4, 2.2, 3. , 5.4, 3.8, 3. , 2. ,\n",
              "       3.4, 1.8, 3.2, 3.4, 3. , 3.2, 2.4, 3.4, 2.4, 2.6, 3.6, 3.8, 2. ,\n",
              "       3.4, 3. , 1.8, 2.4, 2.4, 2.8, 3.2, 1.6, 2.4, 2.8, 3. , 3.2, 4.2,\n",
              "       2. , 3.8, 3.6, 2.6, 1.2, 2.4, 4. , 3.4, 2.4, 3. , 2.8, 3.2, 4. ,\n",
              "       2.4, 3.6, 3.8, 2. , 4.2, 2.2, 2. , 2.2, 2.4, 3.4, 1.8, 3.2, 3.8,\n",
              "       3. , 4.8, 3. , 3.2, 3.8, 2.8, 3.8, 2. , 4.4, 3. , 1.6, 3.2, 2. ,\n",
              "       2.8, 2.6, 1.2, 3.2, 2.8, 2.8, 4. , 2.8, 4.4, 2.8, 3.6, 3.8, 2.6,\n",
              "       1.6, 5.4, 1. , 2.4, 3.2, 4.8, 3.8, 2.2, 5.6, 4.4, 3. , 3. , 2. ,\n",
              "       3. , 4.4, 4.6, 2.6, 2.8, 3.2, 2.6, 2.2, 4.2, 2.6, 4. , 2.6, 1.8,\n",
              "       2.8, 4. , 2.6, 2.8, 1. , 2.4, 2.4, 4.2, 2.4, 3.8, 2.2, 1.8, 3. ,\n",
              "       1.8, 1.8, 2. , 1.8, 3.8, 2.6, 2.2, 3. , 3.2, 2.2, 3.2, 4.4, 2.2,\n",
              "       3. , 3.2, 2.2, 2.8, 4.4, 2.8, 1.8, 3.4, 4.2, 3.6, 2.8, 2.2, 2.4,\n",
              "       3.8, 1.6, 3. , 2. , 1.2, 3.4, 4.6, 1.8, 2.8, 4.2, 1.4, 3.2, 2.4,\n",
              "       3.8, 4.4, 2. , 1.8, 3.4, 2.2, 4.8, 4.8, 4.4, 2.4, 2.6, 2.4, 2. ,\n",
              "       2.4, 3.6, 3.2, 4. , 3.2, 2. , 3.4, 2. , 3.2, 2.6, 2.6, 3.8, 2.4,\n",
              "       3.8, 2.4, 4. , 2.4, 3.2, 3.2, 2.6, 4.2, 3.2, 1.4, 1.8, 5. , 5. ,\n",
              "       2.4, 4. , 3. , 3.2, 2.8, 2.4, 3.2, 3. , 3. , 3.8, 2. , 2. , 2.8,\n",
              "       3.6, 2.8, 3.4, 1.4, 5.2, 3.4, 3.2, 2.4, 2.2, 3.8, 3.2, 3.6, 4.6,\n",
              "       2.4, 1.8, 3.8, 2.8, 2. , 1.6, 2. , 4.8, 4. , 2. , 3.2, 3. , 3. ,\n",
              "       3.4, 3. , 3.4, 3.2, 3.2, 4. , 1.8, 3.8, 3.2, 3. , 2. , 3.6, 3.8,\n",
              "       3.2, 2.4, 4.4, 3. , 4.2, 2.8, 3.4, 2.6, 2. , 4.4, 2.2, 3.2, 4.4,\n",
              "       4.2, 2. , 2. , 3.6, 3.2, 2.6, 3.4, 2.6, 1.8, 5. , 2.2, 3.2, 3.2,\n",
              "       2. , 3. , 4. , 3.2, 4.6, 2.8, 3.2, 2.6, 2.6, 2.2, 2.8, 2.6, 2.8,\n",
              "       5.6, 1.6, 3. , 2.4, 2.2, 3.8, 3.2, 3.6, 2.4, 3.4, 3. , 3.6, 3.8,\n",
              "       3.2, 2.4, 2.4, 2.6, 2.4, 3.4, 2.6, 3. , 3.4, 2.8, 3.2, 3.4, 4.2,\n",
              "       3.8, 2. , 2.8, 3.4, 3.6, 3.4, 2.4, 2.4, 3. , 2.2, 2.8, 1.8, 2.4,\n",
              "       3.4, 4.4, 1.4, 3. , 3. , 2.6, 5.2, 4. , 2.8, 3.4, 3. , 2. , 2.4,\n",
              "       3. , 3.8, 2. , 2.8, 1.4, 2.8, 2. , 2.2, 2.4, 3.4, 2. , 2.4, 2.4,\n",
              "       3.8, 3.6, 2.2, 3.8, 3.2, 3.4, 4. , 3. , 4.4, 4. , 3.6, 4. , 2.4,\n",
              "       4. , 2.6, 2.8, 1.4])"
            ]
          },
          "metadata": {},
          "execution_count": 87
        }
      ]
    },
    {
      "cell_type": "markdown",
      "source": [
        "**Decision Tree Regressor**"
      ],
      "metadata": {
        "id": "hblSdzIpJ8PD"
      }
    },
    {
      "cell_type": "code",
      "source": [
        "import matplotlib.pyplot as plt\n",
        "from sklearn.tree import DecisionTreeClassifier\n",
        "from sklearn.ensemble import RandomForestClassifier\n",
        "from sklearn.model_selection import train_test_split\n",
        "import pandas as pd\n",
        "import numpy as np\n",
        "from sklearn import tree"
      ],
      "metadata": {
        "id": "7491V3EDKFQn"
      },
      "execution_count": null,
      "outputs": []
    },
    {
      "cell_type": "code",
      "source": [
        "from sklearn.tree import DecisionTreeRegressor\n",
        "reg1 = DecisionTreeRegressor()"
      ],
      "metadata": {
        "id": "LkKQa9U-KF71"
      },
      "execution_count": null,
      "outputs": []
    },
    {
      "cell_type": "code",
      "source": [
        "# Split data into training data and testing data\n",
        "x_train, x_test, y_train, y_test = train_test_split(x, y, test_size=0.3,random_state=500)\n",
        "#Ratio used for splitting training and testing data is 7:3 respectively."
      ],
      "metadata": {
        "id": "d0oytwfo4a8g"
      },
      "execution_count": null,
      "outputs": []
    },
    {
      "cell_type": "code",
      "source": [
        "reg1.fit(x_train, y_train)"
      ],
      "metadata": {
        "colab": {
          "base_uri": "https://localhost:8080/",
          "height": 74
        },
        "id": "86A6dWf8KF2T",
        "outputId": "c51d6564-782d-431b-c45c-3f8f7dd5d0b0"
      },
      "execution_count": null,
      "outputs": [
        {
          "output_type": "execute_result",
          "data": {
            "text/plain": [
              "DecisionTreeRegressor()"
            ],
            "text/html": [
              "<style>#sk-container-id-3 {color: black;background-color: white;}#sk-container-id-3 pre{padding: 0;}#sk-container-id-3 div.sk-toggleable {background-color: white;}#sk-container-id-3 label.sk-toggleable__label {cursor: pointer;display: block;width: 100%;margin-bottom: 0;padding: 0.3em;box-sizing: border-box;text-align: center;}#sk-container-id-3 label.sk-toggleable__label-arrow:before {content: \"▸\";float: left;margin-right: 0.25em;color: #696969;}#sk-container-id-3 label.sk-toggleable__label-arrow:hover:before {color: black;}#sk-container-id-3 div.sk-estimator:hover label.sk-toggleable__label-arrow:before {color: black;}#sk-container-id-3 div.sk-toggleable__content {max-height: 0;max-width: 0;overflow: hidden;text-align: left;background-color: #f0f8ff;}#sk-container-id-3 div.sk-toggleable__content pre {margin: 0.2em;color: black;border-radius: 0.25em;background-color: #f0f8ff;}#sk-container-id-3 input.sk-toggleable__control:checked~div.sk-toggleable__content {max-height: 200px;max-width: 100%;overflow: auto;}#sk-container-id-3 input.sk-toggleable__control:checked~label.sk-toggleable__label-arrow:before {content: \"▾\";}#sk-container-id-3 div.sk-estimator input.sk-toggleable__control:checked~label.sk-toggleable__label {background-color: #d4ebff;}#sk-container-id-3 div.sk-label input.sk-toggleable__control:checked~label.sk-toggleable__label {background-color: #d4ebff;}#sk-container-id-3 input.sk-hidden--visually {border: 0;clip: rect(1px 1px 1px 1px);clip: rect(1px, 1px, 1px, 1px);height: 1px;margin: -1px;overflow: hidden;padding: 0;position: absolute;width: 1px;}#sk-container-id-3 div.sk-estimator {font-family: monospace;background-color: #f0f8ff;border: 1px dotted black;border-radius: 0.25em;box-sizing: border-box;margin-bottom: 0.5em;}#sk-container-id-3 div.sk-estimator:hover {background-color: #d4ebff;}#sk-container-id-3 div.sk-parallel-item::after {content: \"\";width: 100%;border-bottom: 1px solid gray;flex-grow: 1;}#sk-container-id-3 div.sk-label:hover label.sk-toggleable__label {background-color: #d4ebff;}#sk-container-id-3 div.sk-serial::before {content: \"\";position: absolute;border-left: 1px solid gray;box-sizing: border-box;top: 0;bottom: 0;left: 50%;z-index: 0;}#sk-container-id-3 div.sk-serial {display: flex;flex-direction: column;align-items: center;background-color: white;padding-right: 0.2em;padding-left: 0.2em;position: relative;}#sk-container-id-3 div.sk-item {position: relative;z-index: 1;}#sk-container-id-3 div.sk-parallel {display: flex;align-items: stretch;justify-content: center;background-color: white;position: relative;}#sk-container-id-3 div.sk-item::before, #sk-container-id-3 div.sk-parallel-item::before {content: \"\";position: absolute;border-left: 1px solid gray;box-sizing: border-box;top: 0;bottom: 0;left: 50%;z-index: -1;}#sk-container-id-3 div.sk-parallel-item {display: flex;flex-direction: column;z-index: 1;position: relative;background-color: white;}#sk-container-id-3 div.sk-parallel-item:first-child::after {align-self: flex-end;width: 50%;}#sk-container-id-3 div.sk-parallel-item:last-child::after {align-self: flex-start;width: 50%;}#sk-container-id-3 div.sk-parallel-item:only-child::after {width: 0;}#sk-container-id-3 div.sk-dashed-wrapped {border: 1px dashed gray;margin: 0 0.4em 0.5em 0.4em;box-sizing: border-box;padding-bottom: 0.4em;background-color: white;}#sk-container-id-3 div.sk-label label {font-family: monospace;font-weight: bold;display: inline-block;line-height: 1.2em;}#sk-container-id-3 div.sk-label-container {text-align: center;}#sk-container-id-3 div.sk-container {/* jupyter's `normalize.less` sets `[hidden] { display: none; }` but bootstrap.min.css set `[hidden] { display: none !important; }` so we also need the `!important` here to be able to override the default hidden behavior on the sphinx rendered scikit-learn.org. See: https://github.com/scikit-learn/scikit-learn/issues/21755 */display: inline-block !important;position: relative;}#sk-container-id-3 div.sk-text-repr-fallback {display: none;}</style><div id=\"sk-container-id-3\" class=\"sk-top-container\"><div class=\"sk-text-repr-fallback\"><pre>DecisionTreeRegressor()</pre><b>In a Jupyter environment, please rerun this cell to show the HTML representation or trust the notebook. <br />On GitHub, the HTML representation is unable to render, please try loading this page with nbviewer.org.</b></div><div class=\"sk-container\" hidden><div class=\"sk-item\"><div class=\"sk-estimator sk-toggleable\"><input class=\"sk-toggleable__control sk-hidden--visually\" id=\"sk-estimator-id-3\" type=\"checkbox\" checked><label for=\"sk-estimator-id-3\" class=\"sk-toggleable__label sk-toggleable__label-arrow\">DecisionTreeRegressor</label><div class=\"sk-toggleable__content\"><pre>DecisionTreeRegressor()</pre></div></div></div></div></div>"
            ]
          },
          "metadata": {},
          "execution_count": 92
        }
      ]
    },
    {
      "cell_type": "code",
      "source": [
        "# Making predictions on Test data\n",
        "pred1 = reg1.predict(x_test)"
      ],
      "metadata": {
        "id": "B9YA16ThKFwM"
      },
      "execution_count": null,
      "outputs": []
    },
    {
      "cell_type": "code",
      "source": [
        "print(\"Accuracy of the Decision Tree Regressor  model comes to be: \\n \")\n",
        "print(reg1.score(x_train,y_train))\n",
        ""
      ],
      "metadata": {
        "colab": {
          "base_uri": "https://localhost:8080/"
        },
        "id": "j_Th3HpDKFpN",
        "outputId": "96ea9446-696c-4620-da58-215746b8af35"
      },
      "execution_count": null,
      "outputs": [
        {
          "output_type": "stream",
          "name": "stdout",
          "text": [
            "Accuracy of the Decision Tree Regressor  model comes to be: \n",
            " \n",
            "0.8350045508285411\n"
          ]
        }
      ]
    },
    {
      "cell_type": "code",
      "source": [
        "import graphviz"
      ],
      "metadata": {
        "id": "D178J6GnVN8X"
      },
      "execution_count": null,
      "outputs": []
    },
    {
      "cell_type": "code",
      "source": [
        "\n",
        "from sklearn.tree import export_graphviz\n",
        "export_graphviz(reg1, out_file=\"tree.dot\", class_names=x.columns,feature_names=x.columns, impurity=False, filled=True)\n",
        "\n",
        "import graphviz\n",
        "with open(\"tree.dot\") as f:\n",
        "    dot_graph = f.read()\n",
        "g=graphviz.Source(dot_graph)"
      ],
      "metadata": {
        "id": "96AOHQRaVbHg"
      },
      "execution_count": null,
      "outputs": []
    },
    {
      "cell_type": "code",
      "source": [
        "g.render()"
      ],
      "metadata": {
        "colab": {
          "base_uri": "https://localhost:8080/",
          "height": 35
        },
        "id": "ZtnPYY8MWCJv",
        "outputId": "3066a638-a866-43be-ca73-ace4ca353899"
      },
      "execution_count": null,
      "outputs": [
        {
          "output_type": "execute_result",
          "data": {
            "text/plain": [
              "'Source.gv.pdf'"
            ],
            "application/vnd.google.colaboratory.intrinsic+json": {
              "type": "string"
            }
          },
          "metadata": {},
          "execution_count": 103
        }
      ]
    },
    {
      "cell_type": "code",
      "source": [
        "from sklearn.model_selection import KFold, cross_val_score"
      ],
      "metadata": {
        "id": "Uyb4x0mBtZrf"
      },
      "execution_count": null,
      "outputs": []
    },
    {
      "cell_type": "code",
      "source": [
        "k_folds = KFold(n_splits = 5)\n",
        "\n",
        "scores = cross_val_score(reg1, x, y, cv = k_folds)\n",
        "\n",
        "print(\"Cross Validation Scores: \", scores)\n",
        "print(\"Average CV Score: \", scores.mean())\n",
        "print(\"Number of CV Scores used in Average: \", len(scores))"
      ],
      "metadata": {
        "colab": {
          "base_uri": "https://localhost:8080/"
        },
        "id": "9q3GtHYDtenT",
        "outputId": "6376c26f-1521-49cf-b112-68743cc70947"
      },
      "execution_count": null,
      "outputs": [
        {
          "output_type": "stream",
          "name": "stdout",
          "text": [
            "Cross Validation Scores:  [-0.61831605 -0.53917845 -0.55865751 -0.69940908 -0.77618218]\n",
            "Average CV Score:  -0.6383486536941874\n",
            "Number of CV Scores used in Average:  5\n"
          ]
        }
      ]
    },
    {
      "cell_type": "markdown",
      "source": [
        "**Ridge Regression**"
      ],
      "metadata": {
        "id": "df-czZ9fK5SD"
      }
    },
    {
      "cell_type": "code",
      "source": [
        "# Split data into training data and testing data\n",
        "x_train, x_test, y_train, y_test = train_test_split(x, y, test_size=0.3,random_state=500)\n",
        "#Ratio used for splitting training and testing data is 7:3 respectively."
      ],
      "metadata": {
        "id": "3Fdnk12q4hkC"
      },
      "execution_count": null,
      "outputs": []
    },
    {
      "cell_type": "code",
      "source": [
        "# Importing model\n",
        "from sklearn.linear_model import Ridge\n",
        "reg3 = Ridge()"
      ],
      "metadata": {
        "id": "CgpE4kJgK7JE"
      },
      "execution_count": null,
      "outputs": []
    },
    {
      "cell_type": "code",
      "source": [
        "# Fitting data into the model.\n",
        "reg3.fit(x_train, y_train)"
      ],
      "metadata": {
        "colab": {
          "base_uri": "https://localhost:8080/",
          "height": 74
        },
        "id": "1LZ3D0aJK9fT",
        "outputId": "05062ecd-6e4d-4eea-ed8c-3ea5332768cd"
      },
      "execution_count": null,
      "outputs": [
        {
          "output_type": "execute_result",
          "data": {
            "text/plain": [
              "Ridge()"
            ],
            "text/html": [
              "<style>#sk-container-id-8 {color: black;background-color: white;}#sk-container-id-8 pre{padding: 0;}#sk-container-id-8 div.sk-toggleable {background-color: white;}#sk-container-id-8 label.sk-toggleable__label {cursor: pointer;display: block;width: 100%;margin-bottom: 0;padding: 0.3em;box-sizing: border-box;text-align: center;}#sk-container-id-8 label.sk-toggleable__label-arrow:before {content: \"▸\";float: left;margin-right: 0.25em;color: #696969;}#sk-container-id-8 label.sk-toggleable__label-arrow:hover:before {color: black;}#sk-container-id-8 div.sk-estimator:hover label.sk-toggleable__label-arrow:before {color: black;}#sk-container-id-8 div.sk-toggleable__content {max-height: 0;max-width: 0;overflow: hidden;text-align: left;background-color: #f0f8ff;}#sk-container-id-8 div.sk-toggleable__content pre {margin: 0.2em;color: black;border-radius: 0.25em;background-color: #f0f8ff;}#sk-container-id-8 input.sk-toggleable__control:checked~div.sk-toggleable__content {max-height: 200px;max-width: 100%;overflow: auto;}#sk-container-id-8 input.sk-toggleable__control:checked~label.sk-toggleable__label-arrow:before {content: \"▾\";}#sk-container-id-8 div.sk-estimator input.sk-toggleable__control:checked~label.sk-toggleable__label {background-color: #d4ebff;}#sk-container-id-8 div.sk-label input.sk-toggleable__control:checked~label.sk-toggleable__label {background-color: #d4ebff;}#sk-container-id-8 input.sk-hidden--visually {border: 0;clip: rect(1px 1px 1px 1px);clip: rect(1px, 1px, 1px, 1px);height: 1px;margin: -1px;overflow: hidden;padding: 0;position: absolute;width: 1px;}#sk-container-id-8 div.sk-estimator {font-family: monospace;background-color: #f0f8ff;border: 1px dotted black;border-radius: 0.25em;box-sizing: border-box;margin-bottom: 0.5em;}#sk-container-id-8 div.sk-estimator:hover {background-color: #d4ebff;}#sk-container-id-8 div.sk-parallel-item::after {content: \"\";width: 100%;border-bottom: 1px solid gray;flex-grow: 1;}#sk-container-id-8 div.sk-label:hover label.sk-toggleable__label {background-color: #d4ebff;}#sk-container-id-8 div.sk-serial::before {content: \"\";position: absolute;border-left: 1px solid gray;box-sizing: border-box;top: 0;bottom: 0;left: 50%;z-index: 0;}#sk-container-id-8 div.sk-serial {display: flex;flex-direction: column;align-items: center;background-color: white;padding-right: 0.2em;padding-left: 0.2em;position: relative;}#sk-container-id-8 div.sk-item {position: relative;z-index: 1;}#sk-container-id-8 div.sk-parallel {display: flex;align-items: stretch;justify-content: center;background-color: white;position: relative;}#sk-container-id-8 div.sk-item::before, #sk-container-id-8 div.sk-parallel-item::before {content: \"\";position: absolute;border-left: 1px solid gray;box-sizing: border-box;top: 0;bottom: 0;left: 50%;z-index: -1;}#sk-container-id-8 div.sk-parallel-item {display: flex;flex-direction: column;z-index: 1;position: relative;background-color: white;}#sk-container-id-8 div.sk-parallel-item:first-child::after {align-self: flex-end;width: 50%;}#sk-container-id-8 div.sk-parallel-item:last-child::after {align-self: flex-start;width: 50%;}#sk-container-id-8 div.sk-parallel-item:only-child::after {width: 0;}#sk-container-id-8 div.sk-dashed-wrapped {border: 1px dashed gray;margin: 0 0.4em 0.5em 0.4em;box-sizing: border-box;padding-bottom: 0.4em;background-color: white;}#sk-container-id-8 div.sk-label label {font-family: monospace;font-weight: bold;display: inline-block;line-height: 1.2em;}#sk-container-id-8 div.sk-label-container {text-align: center;}#sk-container-id-8 div.sk-container {/* jupyter's `normalize.less` sets `[hidden] { display: none; }` but bootstrap.min.css set `[hidden] { display: none !important; }` so we also need the `!important` here to be able to override the default hidden behavior on the sphinx rendered scikit-learn.org. See: https://github.com/scikit-learn/scikit-learn/issues/21755 */display: inline-block !important;position: relative;}#sk-container-id-8 div.sk-text-repr-fallback {display: none;}</style><div id=\"sk-container-id-8\" class=\"sk-top-container\"><div class=\"sk-text-repr-fallback\"><pre>Ridge()</pre><b>In a Jupyter environment, please rerun this cell to show the HTML representation or trust the notebook. <br />On GitHub, the HTML representation is unable to render, please try loading this page with nbviewer.org.</b></div><div class=\"sk-container\" hidden><div class=\"sk-item\"><div class=\"sk-estimator sk-toggleable\"><input class=\"sk-toggleable__control sk-hidden--visually\" id=\"sk-estimator-id-8\" type=\"checkbox\" checked><label for=\"sk-estimator-id-8\" class=\"sk-toggleable__label sk-toggleable__label-arrow\">Ridge</label><div class=\"sk-toggleable__content\"><pre>Ridge()</pre></div></div></div></div></div>"
            ]
          },
          "metadata": {},
          "execution_count": 81
        }
      ]
    },
    {
      "cell_type": "code",
      "source": [
        "# Making predictions\n",
        "pred3 = reg3.predict(x_test)"
      ],
      "metadata": {
        "id": "i8LtUVU_K9ZH"
      },
      "execution_count": null,
      "outputs": []
    },
    {
      "cell_type": "code",
      "source": [
        "pred3"
      ],
      "metadata": {
        "id": "BxDwKDj6K9SI",
        "colab": {
          "base_uri": "https://localhost:8080/"
        },
        "outputId": "de21698e-1995-4e2f-ddda-8996d52aec0e"
      },
      "execution_count": null,
      "outputs": [
        {
          "output_type": "execute_result",
          "data": {
            "text/plain": [
              "array([3.88472977, 3.28993782, 2.70027072, 1.8451762 , 3.9788835 ,\n",
              "       3.18060748, 3.38455074, 3.59058196, 2.56445603, 4.08109226,\n",
              "       4.07835578, 3.7299558 , 3.17308441, 2.52858775, 3.31933041,\n",
              "       3.37947029, 2.12865633, 3.25053078, 2.43003303, 2.23817915,\n",
              "       3.35030447, 3.12320545, 3.34439559, 4.22101046, 4.99760902,\n",
              "       3.54089506, 3.36328116, 2.78614918, 2.88856207, 3.31054316,\n",
              "       2.93715265, 3.25231541, 2.36843786, 2.81565588, 1.89957133,\n",
              "       3.05738872, 3.38724142, 2.46734586, 2.74599403, 2.83047215,\n",
              "       2.86348637, 3.36599388, 2.69742745, 2.62946012, 1.99911688,\n",
              "       2.46740219, 3.68202815, 3.20626907, 3.13408698, 2.28060128,\n",
              "       2.26246244, 2.75466585, 3.27548047, 2.74094106, 3.89292989,\n",
              "       3.22118746, 2.27113427, 3.47680136, 3.16671906, 3.2990445 ,\n",
              "       3.5833871 , 3.18259092, 2.76899241, 3.09247648, 2.34050193,\n",
              "       3.69987281, 3.24539748, 2.71146814, 2.6181319 , 2.69742745,\n",
              "       3.08608605, 2.97234494, 3.41767629, 3.76796389, 2.31685757,\n",
              "       2.8348862 , 2.96991433, 3.48515015, 2.28674573, 2.73256342,\n",
              "       3.24536863, 2.70248042, 3.08867956, 3.24277511, 2.68622298,\n",
              "       2.8783998 , 2.55996871, 2.90773606, 2.776723  , 4.27287286,\n",
              "       2.86994889, 2.8783998 , 3.20116462, 3.14748874, 2.23817915,\n",
              "       2.99310615, 3.35274438, 3.12320545, 3.60452053, 3.65898157,\n",
              "       3.39309882, 2.15168357, 2.07007176, 2.96094823, 3.11728678,\n",
              "       3.16671906, 3.12384438, 2.35900487, 2.72171074, 2.15511554,\n",
              "       2.57085023, 4.9754333 , 2.65391385, 2.74599403, 2.93838471,\n",
              "       2.22762066, 2.85581103, 2.43339149, 2.7561563 , 2.7280761 ,\n",
              "       2.83437101, 2.89714872, 3.67628478, 3.24726243, 2.56502168,\n",
              "       3.10329537, 4.43876749, 2.99140482, 2.78115884, 3.83619698,\n",
              "       4.13147936, 2.79692858, 2.5164551 , 3.19282647, 2.79193824,\n",
              "       2.73814825, 1.97414319, 3.79112072, 3.07318353, 2.30034678,\n",
              "       2.14722025, 3.24601461, 3.1117068 , 2.47011466, 3.36605652,\n",
              "       4.0112675 , 3.90257936, 3.4851213 , 3.97037626, 2.22762066,\n",
              "       3.49528358, 1.88954964, 4.8086601 , 3.66146145, 3.13241408,\n",
              "       2.51907746, 3.13693025, 3.65777371, 2.8008791 , 3.22033861,\n",
              "       3.15780223, 3.89169784, 3.49528358, 4.04910615, 3.28693092,\n",
              "       3.37889263, 3.67494354, 2.15305883, 2.694069  , 3.49218656,\n",
              "       4.1716683 , 3.35527712, 3.55547978, 3.24642422, 3.48450418,\n",
              "       3.73578436, 4.07264134, 2.4663466 , 2.81008772, 3.12378174,\n",
              "       3.09043041, 2.83047215, 3.37364036, 4.44736137, 3.27924854,\n",
              "       3.46256138, 2.85468217, 4.16346547, 3.07717161, 4.67343972,\n",
              "       3.63537173, 2.74599403, 3.75423909, 3.4115642 , 2.78623929,\n",
              "       2.33625247, 3.15331729, 2.63247383, 3.37978669, 3.83224973,\n",
              "       3.05937215, 3.18265356, 3.09892216, 3.51704663, 2.4920817 ,\n",
              "       2.80036031, 3.06244169, 2.95867061, 1.90961464, 2.92441729,\n",
              "       2.39272115, 3.96888276, 5.59307586, 3.92180968, 2.55661025,\n",
              "       4.72747779, 3.36352378, 3.45030837, 2.93774578, 2.10143966,\n",
              "       2.54941021, 2.11496039, 2.98574671, 3.12957081, 3.05540856,\n",
              "       4.48504643, 2.3756379 , 2.78049107, 2.83814749, 3.63265221,\n",
              "       3.30980707, 3.95759162, 2.3756379 , 2.78688527, 2.21217387,\n",
              "       2.92696638, 2.22762066, 2.78049107, 3.80857159, 3.99964988,\n",
              "       2.96210235, 3.47459166, 3.78702962, 3.09827618, 2.8783998 ,\n",
              "       3.14243577, 2.29257429, 2.64034164, 3.66937539, 2.34457964,\n",
              "       3.32655798, 4.78312898, 2.49165663, 3.23893   , 2.64606807,\n",
              "       3.11769993, 3.96135969, 2.77769826, 2.8783998 , 3.2844323 ,\n",
              "       2.2753274 , 3.16610193, 3.8544543 , 3.86790121, 3.30260703,\n",
              "       3.20344223, 2.55996871, 2.50253815, 3.39360677, 3.23566165,\n",
              "       3.362341  , 2.52284931, 2.87788462, 3.82450609, 4.23689916,\n",
              "       2.74599403, 3.11807215, 3.41673613, 3.34643535, 3.46086686,\n",
              "       3.71441761, 3.28527052, 3.31996934, 2.85916949, 3.57637577,\n",
              "       2.52649841, 4.28625827, 3.46591984, 2.54838865, 3.00530005,\n",
              "       2.87692569, 3.93424957, 2.29593274, 2.78486427, 1.8346177 ,\n",
              "       3.27989451, 3.24726243, 3.00497702, 3.04014184, 2.77607702,\n",
              "       3.2327785 , 3.11681125, 4.53997836, 3.73632116, 2.565102  ,\n",
              "       2.10074926, 3.48948387, 2.91216075, 2.58086469, 2.61343599,\n",
              "       2.65675712, 3.70125847, 3.5707465 , 3.20116462, 3.60836892,\n",
              "       3.00299359, 3.92109043, 4.00419353, 2.83034255, 2.87504135,\n",
              "       2.91353577, 3.13222202, 3.78934127, 2.66395715, 2.65893303,\n",
              "       2.80675074, 3.5942479 , 2.65650242, 3.77074988, 2.54073839,\n",
              "       3.27989451, 2.65485508, 3.37780325, 3.4139948 , 2.40859301,\n",
              "       3.96719892, 3.46520058, 3.64635539, 3.7299558 , 3.31422111,\n",
              "       3.06385947, 3.35745261, 1.87469253, 2.37899635, 3.28891108,\n",
              "       3.96532329, 3.44998534, 4.02410361, 3.15753205, 2.3756379 ,\n",
              "       3.15646716, 3.2823984 , 3.65515135, 3.75934839, 4.67372159,\n",
              "       3.00161857, 3.70505539, 2.03987334, 3.04298511, 3.23253252,\n",
              "       3.10538964, 2.70747076, 3.10896547, 3.36155236, 2.96898649,\n",
              "       3.14570411, 2.41915151, 1.83754428, 3.52259259, 2.27798733,\n",
              "       3.20059896, 3.46520058, 2.50221512, 4.26449522, 2.60174486,\n",
              "       3.90186011, 3.39812294, 3.55416603, 4.43633689, 2.76820377,\n",
              "       3.54487171, 2.48257519, 2.38469531, 3.58872076, 2.69742745,\n",
              "       2.82400467, 2.35192026, 2.74442325, 2.37899635, 2.42756293,\n",
              "       2.41267072, 3.35779735, 3.31491637, 3.08867956, 1.9322168 ,\n",
              "       4.57454374, 3.13709388, 2.65391385, 2.54400673, 3.22616716,\n",
              "       2.23401487, 2.84387392, 2.82704042, 3.51582765, 2.86422246,\n",
              "       2.60591292, 2.76993257, 3.9645477 , 2.97150672, 4.08854205,\n",
              "       3.76764085, 1.39965269, 3.6226089 , 3.09956109, 2.66669848,\n",
              "       3.20244952, 2.8391298 , 2.62003394, 3.60325962, 2.92883134,\n",
              "       3.57688559, 3.06314022, 2.29257429, 3.35783684, 2.78688527,\n",
              "       2.51508008, 2.60796963, 3.24075412, 2.47857076, 3.16121354,\n",
              "       3.67993388, 2.83039888, 3.63207592, 3.60479309, 3.20131822,\n",
              "       2.68318747, 2.46068168, 2.47796068, 2.23603209, 2.64367125,\n",
              "       3.44221284, 3.38968404, 2.71252373, 2.5164551 , 2.6437001 ,\n",
              "       3.3041778 , 4.27738903, 1.74588917, 2.72171074, 3.58408563,\n",
              "       2.20105975, 3.09398229, 3.05362393, 3.26462779, 3.86733422,\n",
              "       5.45374148, 3.83069851, 3.07510736, 2.25232902, 2.92943648,\n",
              "       3.69511402, 3.44163655, 3.33351406, 3.45442118, 2.3756379 ,\n",
              "       3.37889263, 2.5872589 , 3.80411805, 3.32340812, 3.24536863,\n",
              "       2.89159297, 3.21189833, 3.22616716, 2.58089354, 2.11496039,\n",
              "       3.48963747, 2.71896941, 2.98238825, 4.94871941, 3.60337858,\n",
              "       2.29313994, 3.32004966, 4.37247611, 3.23124761, 2.59432415,\n",
              "       2.67595996, 3.00497702, 2.79898529, 2.46845417, 3.01534336,\n",
              "       2.66229149, 2.25609709, 4.15552003, 2.92696638, 2.11160193,\n",
              "       3.40647173, 3.78753054, 2.38197578, 2.62226008, 2.40327964,\n",
              "       3.75171885, 2.94850834, 3.10963325, 3.25437678, 4.13794685,\n",
              "       3.23554269, 4.0429617 , 3.15314685, 4.18332541, 3.33805771,\n",
              "       3.04653604, 3.32717618, 3.27981419, 2.76072395, 2.76612367,\n",
              "       3.67616581, 3.63013197, 3.6915515 , 3.1232343 , 2.69742745,\n",
              "       3.3719747 , 3.69598734, 3.41978387, 2.12908141, 3.0119238 ,\n",
              "       3.25617688, 3.15753205, 3.18764389, 2.25104411, 2.81052258,\n",
              "       3.85325597, 3.18766073, 2.38130282, 3.52591538, 3.81875458,\n",
              "       2.24225686, 2.15952958, 2.04927067, 3.36016533, 2.37899635,\n",
              "       2.43623476, 2.93781906, 2.95369092, 3.59950134, 3.2555309 ,\n",
              "       3.63460352, 2.4328763 , 3.37702767, 2.99720452, 3.27154572,\n",
              "       2.35419788, 3.23253252, 3.52907337, 4.33026047, 3.76650628,\n",
              "       2.41915151, 2.27670242, 3.24726243, 3.32330032, 2.79910425,\n",
              "       3.46520058, 3.98044704, 2.79533619, 3.17915895, 2.42756293,\n",
              "       2.99832275, 2.15074233, 3.85275673, 2.77632678, 2.99662823,\n",
              "       3.70354612, 3.62759924, 2.68622298, 4.15057303, 3.12444952,\n",
              "       3.84313126, 4.01386101, 3.02590186, 3.43650325, 2.51636499,\n",
              "       3.57663583, 2.56102429, 3.66154178, 2.9829539 , 2.48067316,\n",
              "       3.01002999, 2.2550415 , 1.95775614, 3.35274438, 2.76753599,\n",
              "       3.21254431, 3.7324259 ])"
            ]
          },
          "metadata": {},
          "execution_count": 88
        }
      ]
    },
    {
      "cell_type": "code",
      "source": [
        "print(\"Accuracy of the Ridge Regression model comes to be: \\n \")\n",
        "print(reg3.score(x_train,y_train))"
      ],
      "metadata": {
        "colab": {
          "base_uri": "https://localhost:8080/"
        },
        "id": "Oao5mzk6LDmh",
        "outputId": "e500e34c-427a-430a-e221-8edbc6b83173"
      },
      "execution_count": null,
      "outputs": [
        {
          "output_type": "stream",
          "name": "stdout",
          "text": [
            "Accuracy of the Ridge Regression model comes to be: \n",
            " \n",
            "0.1510826836690845\n"
          ]
        }
      ]
    },
    {
      "cell_type": "markdown",
      "source": [
        "**Performance Evaluation**"
      ],
      "metadata": {
        "id": "W1bkLyzrEaEo"
      }
    },
    {
      "cell_type": "code",
      "source": [
        "import numpy as np\n",
        "from sklearn.metrics import mean_squared_error\n",
        "print(\"Model\\t\\t\\t RootMeanSquareError \\t\\t Accuracy of the model\")\n",
        "print(\"\"\"Decision Tree Regressor\\t\\t {:.4f} \\t \\t\\t {:.4f}\"\"\".format(  np.sqrt(mean_squared_error(y_test, pred1)), reg1.score(x_train,y_train)))\n",
        "print(\"\"\"Random Forest Regressor\\t\\t {:.4f} \\t \\t\\t {:.4f}\"\"\".format(  np.sqrt(mean_squared_error(y_test, pred2)), reg2.score(x_train,y_train)))\n",
        "print(\"\"\"Ridge Regression\\t\\t {:.4f} \\t \\t\\t {:.4f}\"\"\".format(  np.sqrt(mean_squared_error(y_test, pred3)), reg3.score(x_train,y_train)))\n"
      ],
      "metadata": {
        "colab": {
          "base_uri": "https://localhost:8080/"
        },
        "id": "bg3zHyLLl4TR",
        "outputId": "f2a2a8bc-c9fd-4866-90a0-a11453436e1a"
      },
      "execution_count": null,
      "outputs": [
        {
          "output_type": "stream",
          "name": "stdout",
          "text": [
            "Model\t\t\t RootMeanSquareError \t\t Accuracy of the model\n",
            "Decision Tree Regressor\t\t 2.1615 \t \t\t 0.8350\n",
            "Random Forest Regressor\t\t 1.7690 \t \t\t 0.7392\n",
            "Ridge Regression\t\t 1.5868 \t \t\t 0.1511\n"
          ]
        }
      ]
    },
    {
      "cell_type": "code",
      "source": [
        "data['Gender'].value_counts()"
      ],
      "metadata": {
        "id": "m4cu7aPKvIyg",
        "colab": {
          "base_uri": "https://localhost:8080/"
        },
        "outputId": "3713c304-32d8-4b04-8adf-7621091f65e1"
      },
      "execution_count": null,
      "outputs": [
        {
          "output_type": "execute_result",
          "data": {
            "text/plain": [
              "F    1899\n",
              "M    1059\n",
              "Name: Gender, dtype: int64"
            ]
          },
          "metadata": {},
          "execution_count": 5
        }
      ]
    }
  ]
}